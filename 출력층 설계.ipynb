{
 "cells": [
  {
   "cell_type": "markdown",
   "metadata": {},
   "source": [
    "# 출력층의 활성화 함수\n",
    "- 보통 이준 분류(Binary Classification) : 소프트맥스, 시그모이드 함수를 주로 사용\n",
    "- 다중 분류(Multiple Classification): 소프트 맥스\n",
    "- 보통 전천후 함수로 소프트 맥스 함수를 주로 사용하는 추세, 시그모이드를 출력층의 활성화 함수로 사용할 때는 출력층의 뉴런은 한개로 설정한다."
   ]
  },
  {
   "cell_type": "code",
   "execution_count": 1,
   "metadata": {},
   "outputs": [
    {
     "name": "stdout",
     "output_type": "stream",
     "text": [
      "소프트맥스 결과값 : [0.01821127 0.24519181 0.73659691]\n",
      "결과값 총합 : 1.0\n"
     ]
    }
   ],
   "source": [
    "# 소프트 맥스 함수 구현하기 - 원리\n",
    "import numpy as np\n",
    "\n",
    "\n",
    "a = np.array([0.3,2.9,4.0])\n",
    "\n",
    "# 분자 계산\n",
    "exp_a = np.exp(a)\n",
    "\n",
    "# 분모 계산\n",
    "sumexpa = np.sum(exp_a)\n",
    "\n",
    "y = exp_a/sumexpa\n",
    "\n",
    "print('소프트맥스 결과값 : {}'.format(y))\n",
    "print('결과값 총합 : {}'.format(np.sum(y)))"
   ]
  },
  {
   "cell_type": "markdown",
   "metadata": {},
   "source": [
    "소프트맥스 함수 직접 구현"
   ]
  },
  {
   "cell_type": "code",
   "execution_count": 2,
   "metadata": {},
   "outputs": [],
   "source": [
    "def softmax(a):\n",
    "    exp_a = np.exp(a)\n",
    "    sum_exp_a = np.sum(exp_a)\n",
    "    y = exp_a/sum_exp_a\n",
    "    return y"
   ]
  },
  {
   "cell_type": "markdown",
   "metadata": {},
   "source": [
    "소프트 맥스 함수 튜닝하기"
   ]
  },
  {
   "cell_type": "code",
   "execution_count": 3,
   "metadata": {},
   "outputs": [
    {
     "name": "stdout",
     "output_type": "stream",
     "text": [
      "[nan nan nan]\n"
     ]
    },
    {
     "name": "stderr",
     "output_type": "stream",
     "text": [
      "<ipython-input-2-ef1b7ea074c8>:2: RuntimeWarning: overflow encountered in exp\n",
      "  exp_a = np.exp(a)\n",
      "<ipython-input-2-ef1b7ea074c8>:4: RuntimeWarning: invalid value encountered in true_divide\n",
      "  y = exp_a/sum_exp_a\n"
     ]
    }
   ],
   "source": [
    "big_a = np.array([1010,1000,990])\n",
    "print(softmax(big_a))"
   ]
  },
  {
   "cell_type": "markdown",
   "metadata": {},
   "source": [
    "오버 플로우 발생 원인\n",
    "- $exp$함수는 지수함수이다. $e^{10}$은 20000이고 ,$e^{1000}$은 컴퓨터 시스템에서 무한대이다.\n",
    "- 해결하기 위해서 $log$를 활용한다. 지수함수에서 로그는 뺄셈을 의미한다.\n",
    "\n",
    "\n",
    "1. 분자와 분모에 c라는 임의의 정수를 곱합니다.\n",
    "2. c를 지수 함수 exp 안으로 옮겨서 $logC$로 만들어준다.\n",
    "3. $logC$를 $C'$라는 새로운 기호로 바꿔준다."
   ]
  },
  {
   "cell_type": "code",
   "execution_count": 4,
   "metadata": {},
   "outputs": [
    {
     "name": "stdout",
     "output_type": "stream",
     "text": [
      "[  0 -10 -20]\n"
     ]
    }
   ],
   "source": [
    "# 보통 상수 C는 입력값 중에 가장 큰 값으로 선정.\n",
    "\n",
    "c = np.max(big_a)\n",
    "print(big_a-c)"
   ]
  },
  {
   "cell_type": "code",
   "execution_count": 5,
   "metadata": {},
   "outputs": [],
   "source": [
    "def softmax(a):\n",
    "    C = np.max(a)\n",
    "    exp_a = np.exp(a-C)\n",
    "    sum_exp_a = np.sum(exp_a)\n",
    "    y = exp_a/sum_exp_a\n",
    "    return y"
   ]
  },
  {
   "cell_type": "code",
   "execution_count": 6,
   "metadata": {},
   "outputs": [
    {
     "name": "stdout",
     "output_type": "stream",
     "text": [
      "소프트맥스 결과값 : [9.99954600e-01 4.53978686e-05 2.06106005e-09]\n",
      "결과값 총합 : 1.0\n"
     ]
    }
   ],
   "source": [
    "big_y = softmax(big_a)\n",
    "print('소프트맥스 결과값 : {}'.format(big_y))\n",
    "print('결과값 총합 : {}'.format(np.sum(big_y)))"
   ]
  },
  {
   "cell_type": "markdown",
   "metadata": {},
   "source": [
    "# 텐서플로우 MNIST 데이터 불러오고 형상 다루기"
   ]
  },
  {
   "cell_type": "code",
   "execution_count": 7,
   "metadata": {},
   "outputs": [],
   "source": [
    "import tensorflow as tf\n",
    "import matplotlib.pyplot as plt\n",
    "import pandas as pd"
   ]
  },
  {
   "cell_type": "code",
   "execution_count": 8,
   "metadata": {},
   "outputs": [],
   "source": [
    "from tensorflow.keras import datasets\n",
    "mnist = datasets.mnist\n",
    "\n",
    "(x_train,y_train),(x_test,y_test) = mnist.load_data()"
   ]
  },
  {
   "cell_type": "markdown",
   "metadata": {},
   "source": [
    "모아놓은 데이터의 형상(shape)부터 반드시 확인할 것"
   ]
  },
  {
   "cell_type": "code",
   "execution_count": 9,
   "metadata": {},
   "outputs": [
    {
     "data": {
      "text/plain": [
       "(60000, 28, 28)"
      ]
     },
     "execution_count": 9,
     "metadata": {},
     "output_type": "execute_result"
    }
   ],
   "source": [
    "x_train.shape"
   ]
  },
  {
   "cell_type": "code",
   "execution_count": 10,
   "metadata": {},
   "outputs": [
    {
     "data": {
      "text/plain": [
       "(60000,)"
      ]
     },
     "execution_count": 10,
     "metadata": {},
     "output_type": "execute_result"
    }
   ],
   "source": [
    "y_train.shape"
   ]
  },
  {
   "cell_type": "code",
   "execution_count": 32,
   "metadata": {},
   "outputs": [
    {
     "data": {
      "text/plain": [
       "(10000, 28, 28)"
      ]
     },
     "execution_count": 32,
     "metadata": {},
     "output_type": "execute_result"
    }
   ],
   "source": [
    "x_test.shape"
   ]
  },
  {
   "cell_type": "code",
   "execution_count": 11,
   "metadata": {},
   "outputs": [
    {
     "data": {
      "text/plain": [
       "(28, 28)"
      ]
     },
     "execution_count": 11,
     "metadata": {},
     "output_type": "execute_result"
    }
   ],
   "source": [
    "# 이미지를 시각화\n",
    "image = x_train[0] # 첫번째 이미지 가져오기\n",
    "image.shape"
   ]
  },
  {
   "cell_type": "code",
   "execution_count": 12,
   "metadata": {},
   "outputs": [
    {
     "data": {
      "image/png": "[encoded data removed]",
      "text/plain": [
       "<Figure size 432x288 with 1 Axes>"
      ]
     },
     "metadata": {
      "needs_background": "light"
     },
     "output_type": "display_data"
    }
   ],
   "source": [
    "# matplotlib의 imshow를 이용해서 이미지 시각화\n",
    "plt.imshow(image,'gray')\n",
    "plt.title(y_train[0])\n",
    "plt.show()"
   ]
  },
  {
   "cell_type": "code",
   "execution_count": 13,
   "metadata": {},
   "outputs": [
    {
     "data": {
      "image/png": "[encoded data removed]",
      "text/plain": [
       "<Figure size 432x288 with 1 Axes>"
      ]
     },
     "metadata": {
      "needs_background": "light"
     },
     "output_type": "display_data"
    }
   ],
   "source": [
    "# 이미지를 시각화\n",
    "image = x_train[1] # 첫번째 이미지 가져오기\n",
    "image.shape\n",
    "\n",
    "# matplotlib의 imshow를 이용해서 이미지 시각화\n",
    "plt.imshow(image,'gray')\n",
    "plt.title(y_train[1])\n",
    "plt.show()"
   ]
  },
  {
   "cell_type": "markdown",
   "metadata": {},
   "source": [
    "신경망에 넣을 준비 - 훈련과 학습 모두다 같음... 1차원 형태로 데이터를 받는 레이어를 다음과 같이 이야기 합니다.\n",
    "- 신경망 -Debse Layer\n",
    "- 기하학 -Affine Layer\n",
    "- 통합적 -Fully Connected Layer\n",
    "\n",
    "세 방식의 공통점 : 입력되는 데이터의 차원이 (N,M) 여기서 N은 BATCH_SIZE, M은 데이터의 스칼라 개수\n",
    "\n",
    "- 배치를 이야기 하지 않으면 (M, )\n",
    "- 배치를 이야기 하면 (N,M)\n",
    "\n",
    "CNN은 Fully Connected Layer가 아니고 2차원 배치 데이터를 사용하기 때문에 입력 데이터의 형상이 ( N,H,W,C ) 가 된다."
   ]
  },
  {
   "cell_type": "code",
   "execution_count": 14,
   "metadata": {},
   "outputs": [
    {
     "data": {
      "text/plain": [
       "(784,)"
      ]
     },
     "execution_count": 14,
     "metadata": {},
     "output_type": "execute_result"
    }
   ],
   "source": [
    "image = x_train[0].flatten()\n",
    "image.shape"
   ]
  },
  {
   "cell_type": "code",
   "execution_count": 15,
   "metadata": {},
   "outputs": [
    {
     "data": {
      "text/plain": [
       "(784,)"
      ]
     },
     "execution_count": 15,
     "metadata": {},
     "output_type": "execute_result"
    }
   ],
   "source": [
    "image = x_train[0].reshape(-1)\n",
    "image.shape"
   ]
  },
  {
   "cell_type": "code",
   "execution_count": 16,
   "metadata": {},
   "outputs": [],
   "source": [
    "# ravel()은 잘 쓰지 않는다. -> 원본 이미지가 훼손될 염려가 있기 때문에\n",
    "# image = np.ravel(x_train[0])"
   ]
  },
  {
   "cell_type": "markdown",
   "metadata": {},
   "source": [
    "위처럼 2차원 데이터를 1차원으로 펴는 작업을 데이터 평탄화라고 한다."
   ]
  },
  {
   "cell_type": "code",
   "execution_count": 17,
   "metadata": {},
   "outputs": [
    {
     "data": {
      "text/plain": [
       "(784,)"
      ]
     },
     "execution_count": 17,
     "metadata": {},
     "output_type": "execute_result"
    }
   ],
   "source": [
    "image.shape"
   ]
  },
  {
   "cell_type": "code",
   "execution_count": 18,
   "metadata": {},
   "outputs": [
    {
     "data": {
      "image/png": "[encoded data removed]",
      "text/plain": [
       "<Figure size 432x288 with 1 Axes>"
      ]
     },
     "metadata": {
      "needs_background": "light"
     },
     "output_type": "display_data"
    }
   ],
   "source": [
    "# 평탄화된 이미지를 원래대로 복구\n",
    "image_bokgu = image.reshape(28,28)\n",
    "plt.imshow(image_bokgu,'gray')\n",
    "plt.show()"
   ]
  },
  {
   "cell_type": "markdown",
   "metadata": {},
   "source": [
    "MNIST 손글씨 데이터셋을 위한 신경망 만들기 - Fully Connected Layer (ANN - Affine Neural Network)"
   ]
  },
  {
   "cell_type": "code",
   "execution_count": 62,
   "metadata": {},
   "outputs": [],
   "source": [
    "# 활성화 함수 구현 (시그모이드)\n",
    "def sigmoid(x):\n",
    "    return 1/(1+np.exp(-x))\n",
    "\n",
    "#테스트용 데이터 가져오기\n",
    "def get_test_data():\n",
    "    (x_train,y_train),(x_test,y_test) = mnist.load_data()\n",
    "    # x_test를 평탄화 시켜서 리턴... (N,M)형식으로 리턴\n",
    "    image_size = x_test.shape[0]\n",
    "    # x_test.reshape(10000,28*28)\n",
    "    return x_test.reshape(image_size,-1),y_test\n",
    "\n",
    "#훈련된 신경망 가져오기\n",
    "def init_network():\n",
    "    import pickle\n",
    "    with open('data/sample_weight.pkl','rb') as f:\n",
    "        network = pickle.load(f)\n",
    "        \n",
    "    return network\n",
    "\n",
    "def predict(network,x):\n",
    "\n",
    "    W1,W2,W3 = network['W1'],network['W2'],network['W3']\n",
    "    b1,b2,b3 = network['b1'],network['b2'],network['b3']\n",
    "    \n",
    "    # 구현시에 나는 대부분의 오류는 데이터의 shape 때문이다.\n",
    "    # 1.각 층은 입력되는 값과 해당층의 가중치를 곱하고 편향을 더한다.\n",
    "    # 2. (1)에 의해서 계산된 값에 각 층의 활성화 함수를 씌워주고 다음층으로 넘긴다.\n",
    "    \n",
    "    z1 = np.dot(x,W1) + b1\n",
    "    a1 = sigmoid(z1)\n",
    "    \n",
    "    z2 = np.dot(a1,W2) + b2\n",
    "    a2 = sigmoid(z2)\n",
    "    \n",
    "    #출력층기기 떄문에 활성화 함수로 softmax를 사용한다.\n",
    "    z3 = np.dot(a2,W3) + b3\n",
    "    y = softmax(z3)\n",
    "    \n",
    "    return y"
   ]
  },
  {
   "cell_type": "code",
   "execution_count": 53,
   "metadata": {},
   "outputs": [
    {
     "data": {
      "text/plain": [
       "((784, 50), (50, 100), (100, 10))"
      ]
     },
     "execution_count": 53,
     "metadata": {},
     "output_type": "execute_result"
    }
   ],
   "source": [
    "network = init_network()\n",
    "W1,W2,W3 = network['W1'],network['W2'],network['W3']\n",
    "b1,b2,b3 = network['b1'],network['b2'],network['b3']\n",
    "\n",
    "W1.shape,W2.shape,W3.shape"
   ]
  },
  {
   "cell_type": "code",
   "execution_count": 54,
   "metadata": {},
   "outputs": [
    {
     "data": {
      "text/plain": [
       "((50,), (100,), (10,))"
      ]
     },
     "execution_count": 54,
     "metadata": {},
     "output_type": "execute_result"
    }
   ],
   "source": [
    "b1.shape,b2.shape,b3.shape"
   ]
  },
  {
   "cell_type": "markdown",
   "metadata": {},
   "source": [
    "목적 - 이미지 한장을 예측 (predict)\n",
    "- 각 은닉층의 활성화 함수는 sigmoid로 설정\n",
    "- 제일 마지막 출력층의 활성화 함수는 softmax로 설정"
   ]
  },
  {
   "cell_type": "code",
   "execution_count": 55,
   "metadata": {},
   "outputs": [],
   "source": [
    "a,b = get_test_data()"
   ]
  },
  {
   "cell_type": "code",
   "execution_count": 56,
   "metadata": {},
   "outputs": [
    {
     "data": {
      "text/plain": [
       "(10000, 28, 28)"
      ]
     },
     "execution_count": 56,
     "metadata": {},
     "output_type": "execute_result"
    }
   ],
   "source": [
    "x_test.shape"
   ]
  },
  {
   "cell_type": "code",
   "execution_count": 57,
   "metadata": {},
   "outputs": [
    {
     "data": {
      "text/plain": [
       "(10000, 784)"
      ]
     },
     "execution_count": 57,
     "metadata": {},
     "output_type": "execute_result"
    }
   ],
   "source": [
    "a.shape"
   ]
  },
  {
   "cell_type": "code",
   "execution_count": 58,
   "metadata": {},
   "outputs": [
    {
     "data": {
      "text/plain": [
       "(784,)"
      ]
     },
     "execution_count": 58,
     "metadata": {},
     "output_type": "execute_result"
    }
   ],
   "source": [
    "a[0].shape"
   ]
  },
  {
   "cell_type": "code",
   "execution_count": 59,
   "metadata": {},
   "outputs": [
    {
     "name": "stderr",
     "output_type": "stream",
     "text": [
      "<ipython-input-52-399243954711>:3: RuntimeWarning: overflow encountered in exp\n",
      "  return 1/(1+np.exp(-x))\n"
     ]
    }
   ],
   "source": [
    "y_predict = predict(network,a[0])"
   ]
  },
  {
   "cell_type": "code",
   "execution_count": 60,
   "metadata": {},
   "outputs": [
    {
     "data": {
      "text/plain": [
       "array([4.2878964e-06, 4.5729314e-07, 1.8486264e-04, 8.3604944e-05,\n",
       "       1.5084689e-07, 6.3182205e-07, 4.5782045e-10, 9.9919468e-01,\n",
       "       3.8066935e-07, 5.3082994e-04], dtype=float32)"
      ]
     },
     "execution_count": 60,
     "metadata": {},
     "output_type": "execute_result"
    }
   ],
   "source": [
    "y_predict"
   ]
  },
  {
   "cell_type": "code",
   "execution_count": 64,
   "metadata": {},
   "outputs": [
    {
     "data": {
      "text/plain": [
       "7"
      ]
     },
     "execution_count": 64,
     "metadata": {},
     "output_type": "execute_result"
    }
   ],
   "source": [
    "b[0]"
   ]
  },
  {
   "cell_type": "code",
   "execution_count": 66,
   "metadata": {},
   "outputs": [
    {
     "data": {
      "text/plain": [
       "7"
      ]
     },
     "execution_count": 66,
     "metadata": {},
     "output_type": "execute_result"
    }
   ],
   "source": [
    "# np.argmax max인 부분 인덱스 return\n",
    "np.argmax(y_predict)"
   ]
  },
  {
   "cell_type": "code",
   "execution_count": 67,
   "metadata": {},
   "outputs": [
    {
     "data": {
      "image/png": "[encoded data removed]",
      "text/plain": [
       "<Figure size 432x288 with 1 Axes>"
      ]
     },
     "metadata": {
      "needs_background": "light"
     },
     "output_type": "display_data"
    }
   ],
   "source": [
    "image_bokgu = a[0].reshape(28,28)\n",
    "plt.imshow(image_bokgu,'gray')\n",
    "plt.show()"
   ]
  },
  {
   "cell_type": "markdown",
   "metadata": {},
   "source": [
    "'network'의 정확도 accuracy 구하기"
   ]
  },
  {
   "cell_type": "code",
   "execution_count": 68,
   "metadata": {},
   "outputs": [
    {
     "name": "stderr",
     "output_type": "stream",
     "text": [
      "<ipython-input-62-24ce3d17c20f>:3: RuntimeWarning: overflow encountered in exp\n",
      "  return 1/(1+np.exp(-x))\n"
     ]
    }
   ],
   "source": [
    "x,y = get_test_data()\n",
    "\n",
    "accuracy_count = 0 # 정답을 맞춘 개수를 저장\n",
    "\n",
    "# 사진을 한장씩 꺼내서 predict 하기\n",
    "for i in range(len(x)):\n",
    "    pred = predict(network,x[i])\n",
    "    \n",
    "    # 예측한 것과 정답이 같으면\n",
    "    if np.argmax(pred) == y[i]:\n",
    "        accuracy_count += 1"
   ]
  },
  {
   "cell_type": "code",
   "execution_count": 69,
   "metadata": {},
   "outputs": [
    {
     "name": "stdout",
     "output_type": "stream",
     "text": [
      "0.9207\n"
     ]
    }
   ],
   "source": [
    "print(accuracy_count/len(x))"
   ]
  },
  {
   "cell_type": "markdown",
   "metadata": {},
   "source": [
    "위 코드의 단점\n",
    "- 10000장의 이미지를 한장씩 예측을 하고 있다.\n",
    "- 시간이 오래걸린다.\n",
    "\n",
    "어떻게 해결할 수 있을까?\n",
    "- BATCH를 사용해서 한장씩이 아닌 뭉터기로 예측을 하자\n",
    "- 배치란 데이터의 뭉터기"
   ]
  },
  {
   "cell_type": "code",
   "execution_count": 73,
   "metadata": {},
   "outputs": [
    {
     "name": "stderr",
     "output_type": "stream",
     "text": [
      "<ipython-input-62-24ce3d17c20f>:3: RuntimeWarning: overflow encountered in exp\n",
      "  return 1/(1+np.exp(-x))\n"
     ]
    }
   ],
   "source": [
    "# 배치를 활용한 예측\n",
    "x,y = get_test_data()\n",
    "\n",
    "# 배치란? 데이터의 묶음이다.\n",
    "# batch_size : 1 배치당 들어있어야 하는 데이터의 개수\n",
    "# ex) 60,000개의 데이터를 batch_size 100으로 묶으면 600개의 배치가 생긴다.\n",
    "\n",
    "batch_size = 100\n",
    "accuracy_count = 0\n",
    "\n",
    "#batch_size 개씩 건너 뛰면서 예측 수행\n",
    "for i in range(0,len(x),batch_size):\n",
    "    x_batch = x[i: i+batch_size]\n",
    "    pred_batch = predict(network,x_batch) #데이터를 100개씩 예측 (100,10)\n",
    "    pred_batch = np.argmax(pred_batch,axis=1) #axis 설정을 어떻게 해야 할까요?\n",
    "    \n",
    "    accuracy_count += np.sum(pred_batch == y[i:i+batch_size])"
   ]
  },
  {
   "cell_type": "code",
   "execution_count": 75,
   "metadata": {},
   "outputs": [
    {
     "name": "stdout",
     "output_type": "stream",
     "text": [
      "0.9207\n"
     ]
    }
   ],
   "source": [
    "print(accuracy_count/len(x))"
   ]
  },
  {
   "cell_type": "markdown",
   "metadata": {},
   "source": [
    "배치를 활용해서 데이터를 모두 소모하면 이것을 1에폭(epoch)이라고 한다.\n",
    "\n",
    "np.argmax의 axis 가 1인 이유\n",
    "1. softmax의 결과는 10개의 원소(결과물)를 가진 1차원 배열\n",
    "2. 이 결과물이 100개씩 묶음 지어져 있다. (배치)\n",
    "3. np.argmax의 axis 를 1로 줘야지만 각 행별로 최대값의 인덱스를 구한다.\n",
    "4. axis = 0 은 1차원 배열이 추가되는 방향이기 때문에.."
   ]
  },
  {
   "cell_type": "code",
   "execution_count": null,
   "metadata": {},
   "outputs": [],
   "source": []
  },
  {
   "cell_type": "code",
   "execution_count": null,
   "metadata": {},
   "outputs": [],
   "source": []
  },
  {
   "cell_type": "code",
   "execution_count": null,
   "metadata": {},
   "outputs": [],
   "source": []
  },
  {
   "cell_type": "code",
   "execution_count": null,
   "metadata": {},
   "outputs": [],
   "source": []
  },
  {
   "cell_type": "code",
   "execution_count": null,
   "metadata": {},
   "outputs": [],
   "source": []
  },
  {
   "cell_type": "code",
   "execution_count": null,
   "metadata": {},
   "outputs": [],
   "source": []
  }
 ],
 "metadata": {
  "hide_input": false,
  "kernelspec": {
   "display_name": "Python 3",
   "language": "python",
   "name": "python3"
  },
  "language_info": {
   "codemirror_mode": {
    "name": "ipython",
    "version": 3
   },
   "file_extension": ".py",
   "mimetype": "text/x-python",
   "name": "python",
   "nbconvert_exporter": "python",
   "pygments_lexer": "ipython3",
   "version": "3.8.3"
  },
  "toc": {
   "base_numbering": 1,
   "nav_menu": {},
   "number_sections": true,
   "sideBar": true,
   "skip_h1_title": false,
   "title_cell": "Table of Contents",
   "title_sidebar": "Contents",
   "toc_cell": false,
   "toc_position": {},
   "toc_section_display": true,
   "toc_window_display": false
  }
 },
 "nbformat": 4,
 "nbformat_minor": 4
}
