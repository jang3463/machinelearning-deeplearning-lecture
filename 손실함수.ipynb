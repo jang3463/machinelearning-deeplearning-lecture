{
 "cells": [
  {
   "cell_type": "markdown",
   "metadata": {},
   "source": [
    "# 평균 제곱 오차 ( MSE = Mean Squared Error)\n",
    "$$\n",
    "E = \\frac{1}{n}\\sum_{k}(y_k-t_k)^2\n",
    "$$\n",
    "\n",
    "* $y_k$는 예측값을 의미한다. ($\\hat y$)\n",
    "* $t_k$는 정답(타깃값)을 의미한다."
   ]
  },
  {
   "cell_type": "code",
   "execution_count": 4,
   "metadata": {},
   "outputs": [],
   "source": [
    "import numpy as np\n",
    "\n",
    "y = [0.1, 0.05, 0.6, 0.0, 0.05, 0.1, 0.0, 0.1, 0.0, 0.0]\n",
    "t = [0, 0, 1, 0, 0, 0, 0, 0, 0, 0]"
   ]
  },
  {
   "cell_type": "markdown",
   "metadata": {},
   "source": [
    "위의 'y'는 softmax 의 결과물 로써, 정답이 2일 확률을 60%로 추정하고 있다.\n",
    "'t'는 원핫인코딩된 정답 레이블 이다."
   ]
  },
  {
   "cell_type": "code",
   "execution_count": 5,
   "metadata": {},
   "outputs": [],
   "source": [
    "def mse(y,t):\n",
    "    return np.sum((y-t)**2)/2"
   ]
  },
  {
   "cell_type": "code",
   "execution_count": 7,
   "metadata": {},
   "outputs": [
    {
     "name": "stdout",
     "output_type": "stream",
     "text": [
      "정답을 2로 추정했을 때의 mse 값 : 0.098\n"
     ]
    }
   ],
   "source": [
    "print('정답을 2로 추정했을 때의 mse 값 : {:.3f}'.format(mse(np.array(y),np.array(t))))"
   ]
  },
  {
   "cell_type": "code",
   "execution_count": 8,
   "metadata": {},
   "outputs": [
    {
     "name": "stdout",
     "output_type": "stream",
     "text": [
      "정답을 7로 추정했을 때의 mse 값 : 0.598\n"
     ]
    }
   ],
   "source": [
    "# 일부로 오답 예측을 만들어서 MSE 값을 측정하기. 예측값을 7이라고 가정한 경우로 테스트\n",
    "\n",
    "y = [0.1, 0.05, 0.1, 0.0, 0.05, 0.1, 0.0, 0.6, 0.0, 0.0]\n",
    "print('정답을 7로 추정했을 때의 mse 값 : {:.3f}'.format(mse(np.array(y),np.array(t))))"
   ]
  },
  {
   "cell_type": "markdown",
   "metadata": {},
   "source": [
    "# 교차 엔트로피 ( CEE - Cross Entropy Error)\n",
    "\n",
    "$$\n",
    "E = -\\sum_{k}t_klog\\;y_k\n",
    "$$\n",
    "\n",
    "- 원핫인코딩 된 t 가 곱해지기 떄문에 , 정답이 아닌 타깃은 신경을 전혀 쓰지 않는다."
   ]
  },
  {
   "cell_type": "code",
   "execution_count": 14,
   "metadata": {},
   "outputs": [],
   "source": [
    "def cross_entropy_error(y,t):\n",
    "    delta = 1e-7\n",
    "    return -np.sum( t * np.log( y + delta))\n",
    "\n",
    "# 아주 작은 값인 delta를 더하는 이유는 np.log 함수에 0이 들어가면 \n",
    "# 마이너스 무한대를 나타나게 되기 때문에 y에 아주 작은 값인 delta를\n",
    "# 더해서 np.log 함수의 결과물이 마이너스 무한대가 되는 것을 방지한다."
   ]
  },
  {
   "cell_type": "code",
   "execution_count": 15,
   "metadata": {},
   "outputs": [
    {
     "name": "stdout",
     "output_type": "stream",
     "text": [
      "정답을 2로 추정했을 때의 CEE값 : 0.511\n",
      "정답을 7로 추정했을 때의 CEE값 : 2.303\n"
     ]
    }
   ],
   "source": [
    "# 정답은 2\n",
    "t = [0, 0, 1, 0, 0, 0, 0, 0, 0, 0]\n",
    "# 정답이 2일 확률이 가장 높다고 추정함(0.6)\n",
    "y = [0.1, 0.05, 0.6, 0.0, 0.05, 0.1, 0.0, 0.1, 0.0, 0.0]\n",
    "print(\"정답을 2로 추정했을 때의 CEE값 : {:.3f}\".format(cross_entropy_error(np.array(y), np.array(t))))\n",
    "# 정답이 7일 확률이 가장 높다고 추정함(0.6)\n",
    "y = [0.1, 0.05, 0.1, 0.0, 0.05, 0.1, 0.0, 0.6, 0.0, 0.0]\n",
    "print(\"정답을 7로 추정했을 때의 CEE값 : {:.3f}\".format(cross_entropy_error(np.array(y), np.array(t))))"
   ]
  },
  {
   "cell_type": "markdown",
   "metadata": {},
   "source": [
    "# 미니배치 학습\n",
    "\n",
    "$$\n",
    "E = -\\frac{1}{N}\\sum_n\\;\\sum_{k}t_{nk}log\\;y_{nk}\n",
    "$$\n",
    "\n",
    "- n개의 배치 데이터를 활용했을 때 바뀐 cee 공식"
   ]
  },
  {
   "cell_type": "code",
   "execution_count": 16,
   "metadata": {},
   "outputs": [],
   "source": [
    "# mnist 데이터셋 로딩\n",
    "\n",
    "from tensorflow.keras import datasets\n",
    "\n",
    "mnist = datasets.mnist\n",
    "\n",
    "(X_train,y_train),(X_test,y_test) = mnist.load_data()\n"
   ]
  },
  {
   "cell_type": "code",
   "execution_count": 17,
   "metadata": {},
   "outputs": [
    {
     "data": {
      "text/plain": [
       "(60000, 28, 28)"
      ]
     },
     "execution_count": 17,
     "metadata": {},
     "output_type": "execute_result"
    }
   ],
   "source": [
    "X_train.shape"
   ]
  },
  {
   "cell_type": "code",
   "execution_count": 18,
   "metadata": {},
   "outputs": [
    {
     "data": {
      "text/plain": [
       "(60000,)"
      ]
     },
     "execution_count": 18,
     "metadata": {},
     "output_type": "execute_result"
    }
   ],
   "source": [
    "y_train.shape"
   ]
  },
  {
   "cell_type": "code",
   "execution_count": 41,
   "metadata": {},
   "outputs": [
    {
     "data": {
      "text/plain": [
       "(60000, 784)"
      ]
     },
     "execution_count": 41,
     "metadata": {},
     "output_type": "execute_result"
    }
   ],
   "source": [
    "x = X_train.reshape(60000,-1)\n",
    "x.shape"
   ]
  },
  {
   "cell_type": "code",
   "execution_count": 53,
   "metadata": {},
   "outputs": [
    {
     "data": {
      "text/plain": [
       "array([[5],\n",
       "       [0],\n",
       "       [4],\n",
       "       ...,\n",
       "       [5],\n",
       "       [6],\n",
       "       [8]], dtype=uint8)"
      ]
     },
     "execution_count": 53,
     "metadata": {},
     "output_type": "execute_result"
    }
   ],
   "source": [
    "y_train.reshape(-1,1)"
   ]
  },
  {
   "cell_type": "code",
   "execution_count": 48,
   "metadata": {},
   "outputs": [
    {
     "data": {
      "text/plain": [
       "(60000, 10)"
      ]
     },
     "execution_count": 48,
     "metadata": {},
     "output_type": "execute_result"
    }
   ],
   "source": [
    "from sklearn.preprocessing import OneHotEncoder\n",
    "\n",
    "encoder = OneHotEncoder()\n",
    "encoder.fit(y_train.reshape(-1,1))\n",
    "y_onehot = encoder.transform(y_train.reshape(-1,1)).toarray()\n",
    "y_onehot.shape"
   ]
  },
  {
   "cell_type": "code",
   "execution_count": 49,
   "metadata": {},
   "outputs": [
    {
     "data": {
      "text/plain": [
       "array([[0., 0., 0., ..., 0., 0., 0.],\n",
       "       [1., 0., 0., ..., 0., 0., 0.],\n",
       "       [0., 0., 0., ..., 0., 0., 0.],\n",
       "       ...,\n",
       "       [0., 0., 0., ..., 0., 0., 0.],\n",
       "       [0., 0., 0., ..., 0., 0., 0.],\n",
       "       [0., 0., 0., ..., 0., 1., 0.]])"
      ]
     },
     "execution_count": 49,
     "metadata": {},
     "output_type": "execute_result"
    }
   ],
   "source": [
    "y_onehot"
   ]
  },
  {
   "cell_type": "markdown",
   "metadata": {},
   "source": [
    "## 미니배치 구현하기"
   ]
  },
  {
   "cell_type": "code",
   "execution_count": 54,
   "metadata": {},
   "outputs": [
    {
     "name": "stdout",
     "output_type": "stream",
     "text": [
      "무작위로 선택된 인덱스 : [43893 22010 16056  8873 25245 18231  3190 27958  8262 34742]\n"
     ]
    }
   ],
   "source": [
    "# 훈련데이터에서 무작위로 10장만 빼오기\n",
    "\n",
    "train_size = X_train.shape[0] # 전체 훈련 데이터셋 크기\n",
    "batch_size = 10 # 미니 배치의 사이즈\n",
    "batch_mask = np.random.choice(train_size,batch_size) # train_size에서 무작위로 batch_size 만큼의 정수를 선택\n",
    "\n",
    "X_batch = X_train[batch_mask] # 랜덤으로 선택된 인덱스에 있는 데이터만 추려내기\n",
    "y_batch = y_onehot[batch_mask] # 원핫 인코딩된 y_train에서 선택된 인덱스에 있는 데이터만 추려내기\n",
    "\n",
    "print('무작위로 선택된 인덱스 : {}'.format(batch_mask))"
   ]
  },
  {
   "cell_type": "code",
   "execution_count": null,
   "metadata": {},
   "outputs": [],
   "source": [
    "# 배치 및 배치가 아닐 때 까지 고려\n",
    "\n",
    "def cross_entropy_error(y,t):\n",
    "    \n",
    "    # 1차원일때에 대한 처리( 배치가 아닐 때의 처리)\n",
    "    if y.ndim == 1:\n",
    "        # 강제로 2차원 배열화 시키는 것\n",
    "        t = t.reshape(1,t.size)\n",
    "        y = y.reshape(1,y.size)\n",
    "        \n",
    "    batch_size = y.shape[0]\n",
    "    return -np.sum(t * np.log(y)) / batch_size"
   ]
  },
  {
   "cell_type": "code",
   "execution_count": null,
   "metadata": {},
   "outputs": [],
   "source": [
    "# 원 핫 인코딩이 되어있지 않을 경우 대응\n",
    "\n",
    "def cross_entropy_error(y,t):\n",
    "    \n",
    "    if y.dim == 1:\n",
    "        t = t.reshape(1,t.size)\n",
    "        y = y.reshape(1,y.size)\n",
    "        \n",
    "    batch_size = y.shape[0]\n",
    "    return -np.sum(np.log(y[np.arange(batch_size),t])) / batch_size"
   ]
  },
  {
   "cell_type": "code",
   "execution_count": null,
   "metadata": {},
   "outputs": [],
   "source": []
  },
  {
   "cell_type": "code",
   "execution_count": null,
   "metadata": {},
   "outputs": [],
   "source": []
  },
  {
   "cell_type": "code",
   "execution_count": null,
   "metadata": {},
   "outputs": [],
   "source": []
  },
  {
   "cell_type": "code",
   "execution_count": null,
   "metadata": {},
   "outputs": [],
   "source": []
  }
 ],
 "metadata": {
  "hide_input": false,
  "kernelspec": {
   "display_name": "Python 3",
   "language": "python",
   "name": "python3"
  },
  "language_info": {
   "codemirror_mode": {
    "name": "ipython",
    "version": 3
   },
   "file_extension": ".py",
   "mimetype": "text/x-python",
   "name": "python",
   "nbconvert_exporter": "python",
   "pygments_lexer": "ipython3",
   "version": "3.8.3"
  },
  "toc": {
   "base_numbering": 1,
   "nav_menu": {},
   "number_sections": true,
   "sideBar": true,
   "skip_h1_title": false,
   "title_cell": "Table of Contents",
   "title_sidebar": "Contents",
   "toc_cell": false,
   "toc_position": {},
   "toc_section_display": true,
   "toc_window_display": false
  }
 },
 "nbformat": 4,
 "nbformat_minor": 4
}
