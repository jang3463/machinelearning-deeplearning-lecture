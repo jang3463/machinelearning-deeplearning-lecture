{
  "nbformat": 4,
  "nbformat_minor": 0,
  "metadata": {
    "colab": {
      "name": "Tensorflow 기초",
      "provenance": [],
      "authorship_tag": "ABX9TyPAGqLO/TKj7D51aRfdsDLn",
      "include_colab_link": true
    },
    "kernelspec": {
      "name": "python3",
      "display_name": "Python 3"
    },
    "accelerator": "GPU"
  },
  "cells": [
    {
      "cell_type": "markdown",
      "metadata": {
        "id": "view-in-github",
        "colab_type": "text"
      },
      "source": [
        "<a href=\"https://colab.research.google.com/github/jang3463/machinelearning-deeplearning-lecture/blob/main/Tensorflow_%EA%B8%B0%EC%B4%88.ipynb\" target=\"_parent\"><img src=\"https://colab.research.google.com/assets/colab-badge.svg\" alt=\"Open In Colab\"/></a>"
      ]
    },
    {
      "cell_type": "markdown",
      "metadata": {
        "id": "fntP9eC7v1o-"
      },
      "source": [
        "# Tensor란?\r\n",
        "\r\n",
        "Tensor : 배열\r\n",
        "\r\n",
        "* 배열인데 Rank 시스템이 있음\r\n",
        "* 0 Rank Tensor - Scalar - 상수\r\n",
        "* 1 Rank Tensor - Array (Vector)  - 1차원 배열\r\n",
        "* 2 Rank Tensor - Matrix - 행렬\r\n",
        "* 3 Rank Tensor - Tensor - 3차원 배열\r\n",
        "* 4 Rank Tensor - Tensor - 4차원 배열 ..."
      ]
    },
    {
      "cell_type": "code",
      "metadata": {
        "id": "TCUn9IoUsplJ"
      },
      "source": [
        "import tensorflow as tf\r\n",
        "import numpy as np"
      ],
      "execution_count": 1,
      "outputs": []
    },
    {
      "cell_type": "code",
      "metadata": {
        "colab": {
          "base_uri": "https://localhost:8080/"
        },
        "id": "Ty74_iWpsqyS",
        "outputId": "5bb30a9b-711f-40a1-b703-90c5d99447aa"
      },
      "source": [
        "# 각종 시쿼스들을 tensor로 변환이 가능\r\n",
        "\r\n",
        "# 1. list -> tensor \r\n",
        "tf.constant([1,2,3])"
      ],
      "execution_count": 2,
      "outputs": [
        {
          "output_type": "execute_result",
          "data": {
            "text/plain": [
              "<tf.Tensor: shape=(3,), dtype=int32, numpy=array([1, 2, 3], dtype=int32)>"
            ]
          },
          "metadata": {
            "tags": []
          },
          "execution_count": 2
        }
      ]
    },
    {
      "cell_type": "code",
      "metadata": {
        "colab": {
          "base_uri": "https://localhost:8080/"
        },
        "id": "xTyTCGlHsq6R",
        "outputId": "65818c31-d575-41cd-ba79-0f93c6ad32c3"
      },
      "source": [
        "# 2. tuple -> tensor\r\n",
        "tf.constant((1,2,3,))"
      ],
      "execution_count": 3,
      "outputs": [
        {
          "output_type": "execute_result",
          "data": {
            "text/plain": [
              "<tf.Tensor: shape=(3,), dtype=int32, numpy=array([1, 2, 3], dtype=int32)>"
            ]
          },
          "metadata": {
            "tags": []
          },
          "execution_count": 3
        }
      ]
    },
    {
      "cell_type": "code",
      "metadata": {
        "colab": {
          "base_uri": "https://localhost:8080/"
        },
        "id": "j0QiLh9psrBC",
        "outputId": "3ba74df6-01c5-4af9-ca77-3ef58a91414b"
      },
      "source": [
        "# 3. ndarray -> tensor\r\n",
        "\r\n",
        "arr = np.array([1,2,3])\r\n",
        "tf.constant(arr)"
      ],
      "execution_count": 4,
      "outputs": [
        {
          "output_type": "execute_result",
          "data": {
            "text/plain": [
              "<tf.Tensor: shape=(3,), dtype=int64, numpy=array([1, 2, 3])>"
            ]
          },
          "metadata": {
            "tags": []
          },
          "execution_count": 4
        }
      ]
    },
    {
      "cell_type": "markdown",
      "metadata": {
        "id": "OtEqsLnqzkz3"
      },
      "source": [
        "# Tensor 정보 확인하기"
      ]
    },
    {
      "cell_type": "code",
      "metadata": {
        "colab": {
          "base_uri": "https://localhost:8080/"
        },
        "id": "0nZwazcksrHp",
        "outputId": "7f486257-62b9-4842-bf90-e5494871870e"
      },
      "source": [
        "tensor = tf.constant(arr)\r\n",
        "tensor.shape"
      ],
      "execution_count": 5,
      "outputs": [
        {
          "output_type": "execute_result",
          "data": {
            "text/plain": [
              "TensorShape([3])"
            ]
          },
          "metadata": {
            "tags": []
          },
          "execution_count": 5
        }
      ]
    },
    {
      "cell_type": "code",
      "metadata": {
        "colab": {
          "base_uri": "https://localhost:8080/"
        },
        "id": "FfnzkiVxsrN7",
        "outputId": "ad6f3599-5bfe-49b5-eb66-96898339357a"
      },
      "source": [
        "tensor = tf.constant(np.arange(0,10).reshape(2,5))\r\n",
        "tensor.shape"
      ],
      "execution_count": 6,
      "outputs": [
        {
          "output_type": "execute_result",
          "data": {
            "text/plain": [
              "TensorShape([2, 5])"
            ]
          },
          "metadata": {
            "tags": []
          },
          "execution_count": 6
        }
      ]
    },
    {
      "cell_type": "code",
      "metadata": {
        "colab": {
          "base_uri": "https://localhost:8080/"
        },
        "id": "Z2NCblP3srUZ",
        "outputId": "11be53e7-a2eb-4ef3-b932-c8ed02c9b6ee"
      },
      "source": [
        "tensor.dtype"
      ],
      "execution_count": 7,
      "outputs": [
        {
          "output_type": "execute_result",
          "data": {
            "text/plain": [
              "tf.int64"
            ]
          },
          "metadata": {
            "tags": []
          },
          "execution_count": 7
        }
      ]
    },
    {
      "cell_type": "code",
      "metadata": {
        "colab": {
          "base_uri": "https://localhost:8080/"
        },
        "id": "DXtqwzi8sraE",
        "outputId": "5b529800-4a0a-4e87-8da1-3a116e29edc7"
      },
      "source": [
        "# 텐서를 구성하는 원소 중 데이터 타입이 가장 큰 것이 텐서의 데이터 타입이 된다.\r\n",
        "# 텐서에 정수와 실수가 섞여 있으면 텐서의 타입은 실수가 된다.\r\n",
        "\r\n",
        "tensor = tf.constant([1,2.1,3])\r\n",
        "tensor.dtype"
      ],
      "execution_count": 8,
      "outputs": [
        {
          "output_type": "execute_result",
          "data": {
            "text/plain": [
              "tf.float32"
            ]
          },
          "metadata": {
            "tags": []
          },
          "execution_count": 8
        }
      ]
    },
    {
      "cell_type": "code",
      "metadata": {
        "colab": {
          "base_uri": "https://localhost:8080/"
        },
        "id": "5syJTZHnsrgS",
        "outputId": "e426043c-3508-4cb1-b437-da99e71c3e11"
      },
      "source": [
        "# 강제로 데이터 타입을 지정\r\n",
        "tensor = tf.constant([1,2,3], dtype=tf.float32)\r\n",
        "tensor.dtype"
      ],
      "execution_count": 10,
      "outputs": [
        {
          "output_type": "execute_result",
          "data": {
            "text/plain": [
              "tf.float32"
            ]
          },
          "metadata": {
            "tags": []
          },
          "execution_count": 10
        }
      ]
    },
    {
      "cell_type": "code",
      "metadata": {
        "colab": {
          "base_uri": "https://localhost:8080/"
        },
        "id": "5Hj7NECbsrmi",
        "outputId": "a4d93781-97d7-4313-aa27-a06a2acbec55"
      },
      "source": [
        "# tf.cast 를 활용해서 텐서의 타입을 변경 \r\n",
        "tf.cast(tensor, tf.uint8).dtype"
      ],
      "execution_count": 12,
      "outputs": [
        {
          "output_type": "execute_result",
          "data": {
            "text/plain": [
              "tf.uint8"
            ]
          },
          "metadata": {
            "tags": []
          },
          "execution_count": 12
        }
      ]
    },
    {
      "cell_type": "code",
      "metadata": {
        "colab": {
          "base_uri": "https://localhost:8080/"
        },
        "id": "QMo-K7R30g3r",
        "outputId": "7da76dd4-4d73-4a6b-ef0d-28c031a5b5f8"
      },
      "source": [
        "# numpy와 tensorflow는 상호간에 호환이 가능\r\n",
        "\r\n",
        "# 1. tensor를 ndarray로 바꿔보기\r\n",
        "tensor.numpy()"
      ],
      "execution_count": 14,
      "outputs": [
        {
          "output_type": "execute_result",
          "data": {
            "text/plain": [
              "array([1., 2., 3.], dtype=float32)"
            ]
          },
          "metadata": {
            "tags": []
          },
          "execution_count": 14
        }
      ]
    },
    {
      "cell_type": "code",
      "metadata": {
        "id": "REZcQ_q_0g_x"
      },
      "source": [
        ""
      ],
      "execution_count": null,
      "outputs": []
    },
    {
      "cell_type": "markdown",
      "metadata": {
        "id": "L_zgiR4K08uz"
      },
      "source": [
        "# Tensorflow의 난수 생성"
      ]
    },
    {
      "cell_type": "code",
      "metadata": {
        "colab": {
          "base_uri": "https://localhost:8080/"
        },
        "id": "Kg21OWT_0hFq",
        "outputId": "a1afe038-f52f-475a-b6ca-d8e9d9b6c0a2"
      },
      "source": [
        "#numpy로 정규분포 만들기\r\n",
        "\r\n",
        "np.random.randn(9)"
      ],
      "execution_count": 15,
      "outputs": [
        {
          "output_type": "execute_result",
          "data": {
            "text/plain": [
              "array([-0.72700972, -0.2170077 , -0.17906021, -0.28135279,  0.39404005,\n",
              "       -1.46697714, -0.75770611, -0.70878729, -0.08070901])"
            ]
          },
          "metadata": {
            "tags": []
          },
          "execution_count": 15
        }
      ]
    },
    {
      "cell_type": "code",
      "metadata": {
        "colab": {
          "base_uri": "https://localhost:8080/"
        },
        "id": "FR6baZ1a0hK5",
        "outputId": "6c0ad667-939d-4ef2-b45e-eab77316dc35"
      },
      "source": [
        "# tensorflow로 정규분포 만들기\r\n",
        "tf.random.normal([3,3])"
      ],
      "execution_count": 16,
      "outputs": [
        {
          "output_type": "execute_result",
          "data": {
            "text/plain": [
              "<tf.Tensor: shape=(3, 3), dtype=float32, numpy=\n",
              "array([[ 1.3866811 , -2.3282123 ,  1.4526869 ],\n",
              "       [ 1.1507498 , -0.69778824, -2.2397685 ],\n",
              "       [ 1.6902353 ,  0.6275519 ,  0.2099564 ]], dtype=float32)>"
            ]
          },
          "metadata": {
            "tags": []
          },
          "execution_count": 16
        }
      ]
    },
    {
      "cell_type": "code",
      "metadata": {
        "colab": {
          "base_uri": "https://localhost:8080/"
        },
        "id": "SW5Zu8E00hO6",
        "outputId": "a3a67737-31f4-4035-9f5d-f59dbae23466"
      },
      "source": [
        "# tensorflow로 균등분포 만들기\r\n",
        "tf.random.uniform([3,3])"
      ],
      "execution_count": 17,
      "outputs": [
        {
          "output_type": "execute_result",
          "data": {
            "text/plain": [
              "<tf.Tensor: shape=(3, 3), dtype=float32, numpy=\n",
              "array([[0.43406403, 0.5329131 , 0.7452849 ],\n",
              "       [0.37855208, 0.09035909, 0.69804096],\n",
              "       [0.3726461 , 0.22268915, 0.62960696]], dtype=float32)>"
            ]
          },
          "metadata": {
            "tags": []
          },
          "execution_count": 17
        }
      ]
    },
    {
      "cell_type": "markdown",
      "metadata": {
        "id": "7tDp9htd1W75"
      },
      "source": [
        "# Tensorflow 로 One Hot Encoding"
      ]
    },
    {
      "cell_type": "code",
      "metadata": {
        "id": "Q4ZnN5n80hTK"
      },
      "source": [
        "from tensorflow.keras.utils import to_categorical"
      ],
      "execution_count": 18,
      "outputs": []
    },
    {
      "cell_type": "code",
      "metadata": {
        "colab": {
          "base_uri": "https://localhost:8080/"
        },
        "id": "j1_skbK30hXL",
        "outputId": "c0f8fb0d-3650-4fff-acb0-36bf721839a5"
      },
      "source": [
        "to_categorical(1,3)"
      ],
      "execution_count": 19,
      "outputs": [
        {
          "output_type": "execute_result",
          "data": {
            "text/plain": [
              "array([0., 1., 0.], dtype=float32)"
            ]
          },
          "metadata": {
            "tags": []
          },
          "execution_count": 19
        }
      ]
    },
    {
      "cell_type": "code",
      "metadata": {
        "id": "mBur3X_90hbJ"
      },
      "source": [
        ""
      ],
      "execution_count": null,
      "outputs": []
    },
    {
      "cell_type": "code",
      "metadata": {
        "id": "rJ4-_SQ_srtS"
      },
      "source": [
        ""
      ],
      "execution_count": null,
      "outputs": []
    }
  ]
}