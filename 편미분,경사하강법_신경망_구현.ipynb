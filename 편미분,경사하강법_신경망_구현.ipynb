{
  "nbformat": 4,
  "nbformat_minor": 0,
  "metadata": {
    "colab": {
      "name": "편미분,경사하강법 신경망 구현.ipynb",
      "provenance": [],
      "collapsed_sections": [],
      "mount_file_id": "10eX7xPvH-0E9h9gFjbG4wbm7Qq5iFtbc",
      "authorship_tag": "ABX9TyMjsTCz6m5i/PWpSVayAYOB",
      "include_colab_link": true
    },
    "kernelspec": {
      "name": "python3",
      "display_name": "Python 3"
    },
    "widgets": {
      "application/vnd.jupyter.widget-state+json": {
        "5f061e840c9149bf89eb04f918392d78": {
          "model_module": "@jupyter-widgets/controls",
          "model_name": "HBoxModel",
          "state": {
            "_view_name": "HBoxView",
            "_dom_classes": [],
            "_model_name": "HBoxModel",
            "_view_module": "@jupyter-widgets/controls",
            "_model_module_version": "1.5.0",
            "_view_count": null,
            "_view_module_version": "1.5.0",
            "box_style": "",
            "layout": "IPY_MODEL_70444daea07440cc91ca070ed159a255",
            "_model_module": "@jupyter-widgets/controls",
            "children": [
              "IPY_MODEL_efdeb71c615a41c791f47fb01cedfa0d",
              "IPY_MODEL_a7500086857949bca17ff3edc4cd7c0e"
            ]
          }
        },
        "70444daea07440cc91ca070ed159a255": {
          "model_module": "@jupyter-widgets/base",
          "model_name": "LayoutModel",
          "state": {
            "_view_name": "LayoutView",
            "grid_template_rows": null,
            "right": null,
            "justify_content": null,
            "_view_module": "@jupyter-widgets/base",
            "overflow": null,
            "_model_module_version": "1.2.0",
            "_view_count": null,
            "flex_flow": null,
            "width": null,
            "min_width": null,
            "border": null,
            "align_items": null,
            "bottom": null,
            "_model_module": "@jupyter-widgets/base",
            "top": null,
            "grid_column": null,
            "overflow_y": null,
            "overflow_x": null,
            "grid_auto_flow": null,
            "grid_area": null,
            "grid_template_columns": null,
            "flex": null,
            "_model_name": "LayoutModel",
            "justify_items": null,
            "grid_row": null,
            "max_height": null,
            "align_content": null,
            "visibility": null,
            "align_self": null,
            "height": null,
            "min_height": null,
            "padding": null,
            "grid_auto_rows": null,
            "grid_gap": null,
            "max_width": null,
            "order": null,
            "_view_module_version": "1.2.0",
            "grid_template_areas": null,
            "object_position": null,
            "object_fit": null,
            "grid_auto_columns": null,
            "margin": null,
            "display": null,
            "left": null
          }
        },
        "efdeb71c615a41c791f47fb01cedfa0d": {
          "model_module": "@jupyter-widgets/controls",
          "model_name": "FloatProgressModel",
          "state": {
            "_view_name": "ProgressView",
            "style": "IPY_MODEL_785ab93d9bbb4677a7fff85ba91dcefc",
            "_dom_classes": [],
            "description": "  0%",
            "_model_name": "FloatProgressModel",
            "bar_style": "danger",
            "max": 10000,
            "_view_module": "@jupyter-widgets/controls",
            "_model_module_version": "1.5.0",
            "value": 1,
            "_view_count": null,
            "_view_module_version": "1.5.0",
            "orientation": "horizontal",
            "min": 0,
            "description_tooltip": null,
            "_model_module": "@jupyter-widgets/controls",
            "layout": "IPY_MODEL_830794fd7a3741cfadac16485aa89501"
          }
        },
        "a7500086857949bca17ff3edc4cd7c0e": {
          "model_module": "@jupyter-widgets/controls",
          "model_name": "HTMLModel",
          "state": {
            "_view_name": "HTMLView",
            "style": "IPY_MODEL_f2e26eba26ff44f1857c39f994a926bb",
            "_dom_classes": [],
            "description": "",
            "_model_name": "HTMLModel",
            "placeholder": "​",
            "_view_module": "@jupyter-widgets/controls",
            "_model_module_version": "1.5.0",
            "value": " 1/10000 [06:02&lt;578:24:29, 208.25s/it]",
            "_view_count": null,
            "_view_module_version": "1.5.0",
            "description_tooltip": null,
            "_model_module": "@jupyter-widgets/controls",
            "layout": "IPY_MODEL_c42bfda42de5414d9d717d370cb3fade"
          }
        },
        "785ab93d9bbb4677a7fff85ba91dcefc": {
          "model_module": "@jupyter-widgets/controls",
          "model_name": "ProgressStyleModel",
          "state": {
            "_view_name": "StyleView",
            "_model_name": "ProgressStyleModel",
            "description_width": "initial",
            "_view_module": "@jupyter-widgets/base",
            "_model_module_version": "1.5.0",
            "_view_count": null,
            "_view_module_version": "1.2.0",
            "bar_color": null,
            "_model_module": "@jupyter-widgets/controls"
          }
        },
        "830794fd7a3741cfadac16485aa89501": {
          "model_module": "@jupyter-widgets/base",
          "model_name": "LayoutModel",
          "state": {
            "_view_name": "LayoutView",
            "grid_template_rows": null,
            "right": null,
            "justify_content": null,
            "_view_module": "@jupyter-widgets/base",
            "overflow": null,
            "_model_module_version": "1.2.0",
            "_view_count": null,
            "flex_flow": null,
            "width": null,
            "min_width": null,
            "border": null,
            "align_items": null,
            "bottom": null,
            "_model_module": "@jupyter-widgets/base",
            "top": null,
            "grid_column": null,
            "overflow_y": null,
            "overflow_x": null,
            "grid_auto_flow": null,
            "grid_area": null,
            "grid_template_columns": null,
            "flex": null,
            "_model_name": "LayoutModel",
            "justify_items": null,
            "grid_row": null,
            "max_height": null,
            "align_content": null,
            "visibility": null,
            "align_self": null,
            "height": null,
            "min_height": null,
            "padding": null,
            "grid_auto_rows": null,
            "grid_gap": null,
            "max_width": null,
            "order": null,
            "_view_module_version": "1.2.0",
            "grid_template_areas": null,
            "object_position": null,
            "object_fit": null,
            "grid_auto_columns": null,
            "margin": null,
            "display": null,
            "left": null
          }
        },
        "f2e26eba26ff44f1857c39f994a926bb": {
          "model_module": "@jupyter-widgets/controls",
          "model_name": "DescriptionStyleModel",
          "state": {
            "_view_name": "StyleView",
            "_model_name": "DescriptionStyleModel",
            "description_width": "",
            "_view_module": "@jupyter-widgets/base",
            "_model_module_version": "1.5.0",
            "_view_count": null,
            "_view_module_version": "1.2.0",
            "_model_module": "@jupyter-widgets/controls"
          }
        },
        "c42bfda42de5414d9d717d370cb3fade": {
          "model_module": "@jupyter-widgets/base",
          "model_name": "LayoutModel",
          "state": {
            "_view_name": "LayoutView",
            "grid_template_rows": null,
            "right": null,
            "justify_content": null,
            "_view_module": "@jupyter-widgets/base",
            "overflow": null,
            "_model_module_version": "1.2.0",
            "_view_count": null,
            "flex_flow": null,
            "width": null,
            "min_width": null,
            "border": null,
            "align_items": null,
            "bottom": null,
            "_model_module": "@jupyter-widgets/base",
            "top": null,
            "grid_column": null,
            "overflow_y": null,
            "overflow_x": null,
            "grid_auto_flow": null,
            "grid_area": null,
            "grid_template_columns": null,
            "flex": null,
            "_model_name": "LayoutModel",
            "justify_items": null,
            "grid_row": null,
            "max_height": null,
            "align_content": null,
            "visibility": null,
            "align_self": null,
            "height": null,
            "min_height": null,
            "padding": null,
            "grid_auto_rows": null,
            "grid_gap": null,
            "max_width": null,
            "order": null,
            "_view_module_version": "1.2.0",
            "grid_template_areas": null,
            "object_position": null,
            "object_fit": null,
            "grid_auto_columns": null,
            "margin": null,
            "display": null,
            "left": null
          }
        }
      }
    }
  },
  "cells": [
    {
      "cell_type": "markdown",
      "metadata": {
        "id": "view-in-github",
        "colab_type": "text"
      },
      "source": [
        "<a href=\"https://colab.research.google.com/github/jang3463/machinelearning-deeplearning-lecture/blob/main/%ED%8E%B8%EB%AF%B8%EB%B6%84%2C%EA%B2%BD%EC%82%AC%ED%95%98%EA%B0%95%EB%B2%95_%EC%8B%A0%EA%B2%BD%EB%A7%9D_%EA%B5%AC%ED%98%84.ipynb\" target=\"_parent\"><img src=\"https://colab.research.google.com/assets/colab-badge.svg\" alt=\"Open In Colab\"/></a>"
      ]
    },
    {
      "cell_type": "markdown",
      "metadata": {
        "id": "QgwT7Y39Irgs"
      },
      "source": [
        "# 편미분\r\n",
        "한쪽 변수 방향으로만 미분 하는 것이다. 다른 쪽 변수는 상수로 취급한다.\r\n",
        "\r\n",
        "$$\r\n",
        "f(x_0, x_1) = x^2_0 + x^2_1\r\n",
        "$$\r\n"
      ]
    },
    {
      "cell_type": "code",
      "metadata": {
        "id": "cmnrCSsRUHtq"
      },
      "source": [
        "import tensorflow as tf\r\n",
        "import matplotlib.pyplot as plt\r\n",
        "\r\n",
        "from tensorflow.keras import datasets\r\n",
        "mnist = datasets.mnist"
      ],
      "execution_count": 63,
      "outputs": []
    },
    {
      "cell_type": "code",
      "metadata": {
        "id": "EweSlk4_Kdx_"
      },
      "source": [
        "def numerical_diff(f, x):\r\n",
        "  h = 1e-4 # 0.0001\r\n",
        "  return (f(x+h) - f(x-h)) / (2 * h)"
      ],
      "execution_count": 6,
      "outputs": []
    },
    {
      "cell_type": "code",
      "metadata": {
        "id": "OSZ5SaAy-KFe"
      },
      "source": [
        "def function_2(x):\r\n",
        "    return x[0]**2 + x[1]**2"
      ],
      "execution_count": 31,
      "outputs": []
    },
    {
      "cell_type": "code",
      "metadata": {
        "colab": {
          "base_uri": "https://localhost:8080/",
          "height": 466
        },
        "id": "ZTLp4fVzIlql",
        "outputId": "b767d518-1e1c-441b-a52d-a37055b58366"
      },
      "source": [
        "import matplotlib.pyplot as plt\r\n",
        "import numpy as np\r\n",
        "\r\n",
        "from mpl_toolkits.mplot3d import Axes3D\r\n",
        "fig = plt.figure(figsize=(10,8))\r\n",
        "ax = fig.add_subplot(111, projection='3d')\r\n",
        "\r\n",
        "X0 = np.arange(-3, 3, 0.05)\r\n",
        "X1 = np.arange(-3, 3, 0.05)\r\n",
        "\r\n",
        "X0, X1 = np.meshgrid(X0, X1)\r\n",
        "Z = function_2([X0,X1])\r\n",
        "\r\n",
        "ax.plot_wireframe(X=X0, Y=X1, Z=Z,rstride=10, cstride=10)\r\n",
        "ax.set_xlabel('x0')\r\n",
        "ax.set_ylabel('x1')\r\n",
        "ax.set_zlabel('f(x)')\r\n",
        "plt.show()"
      ],
      "execution_count": 32,
      "outputs": [
        {
          "output_type": "display_data",
          "data": {
            "image/png": "[encoded data removed]",
            "text/plain": [
              "<Figure size 720x576 with 1 Axes>"
            ]
          },
          "metadata": {
            "tags": [],
            "needs_background": "light"
          }
        }
      ]
    },
    {
      "cell_type": "markdown",
      "metadata": {
        "id": "0mQF1ehEJzh5"
      },
      "source": [
        "1. 미분을 함에 있어서 고려해야할 방향이 2개\r\n",
        " * $x_0$, $x_1$ 방향으로 고려해야 한다.\r\n",
        "\r\n",
        "2. 둘 중 하나의 방향으로만 미분을 수행한다. -> **편미분**\r\n",
        " * 즉 $x_0$의 미분을 수행할 때는 $x_1$을 상수처럼 취급한다. $\\frac{\\partial f}{\\partial x_0}$\r\n",
        " * $x_1$의 미분을 수행할 때는 $x_0$을 상수처럼 취급한다. $\\frac{\\partial f}{\\partial x_1}$"
      ]
    },
    {
      "cell_type": "code",
      "metadata": {
        "colab": {
          "base_uri": "https://localhost:8080/"
        },
        "id": "Fm0Qnrt8JyCW",
        "outputId": "e3ad048f-363c-4df0-8884-2fd67c011db7"
      },
      "source": [
        "def function_temp1(x0):\r\n",
        "    return x0**2 +4.0**2.0\r\n",
        "\r\n",
        "numerical_diff(function_temp1,3)"
      ],
      "execution_count": 33,
      "outputs": [
        {
          "output_type": "execute_result",
          "data": {
            "text/plain": [
              "6.00000000000378"
            ]
          },
          "metadata": {
            "tags": []
          },
          "execution_count": 33
        }
      ]
    },
    {
      "cell_type": "code",
      "metadata": {
        "colab": {
          "base_uri": "https://localhost:8080/"
        },
        "id": "kLTrvJY0MOFT",
        "outputId": "b6a9c6e4-a573-41e3-a7ab-4aa9b553e814"
      },
      "source": [
        "def function_temp2(x1):\r\n",
        "    return 3**2 +x1**2.0\r\n",
        "\r\n",
        "numerical_diff(function_temp1,4)"
      ],
      "execution_count": 34,
      "outputs": [
        {
          "output_type": "execute_result",
          "data": {
            "text/plain": [
              "7.999999999999119"
            ]
          },
          "metadata": {
            "tags": []
          },
          "execution_count": 34
        }
      ]
    },
    {
      "cell_type": "markdown",
      "metadata": {
        "id": "hAi5tGKfc7UK"
      },
      "source": [
        "$x_0$와 $x_1$ 각각의 편미분 결과를 $(\\frac{\\partial f}{\\partial x_0} , \\frac{\\partial f}{\\partial x_1})$로 정리 한 것을 **기울기(gradient)**라고 한다."
      ]
    },
    {
      "cell_type": "code",
      "metadata": {
        "id": "BVVCPJqQOoWW"
      },
      "source": [
        "# 기울기를 구하는 코드 - 각각의 편미분을 배열로 만든다.\r\n",
        "def numerical_gradient(f, x):\r\n",
        "  h = 1e-4\r\n",
        "  # 기울기를 저장할 배열\r\n",
        "  grad = np.zeros_like(x) # x와 형상(shape)이 같은 배열을 생성\r\n",
        "\r\n",
        "  for idx in range(x.size):\r\n",
        "    # x의 값을 idx에 맞게 하나씩 빼온다.\r\n",
        "    tmp_val = x[idx]\r\n",
        "\r\n",
        "    # 각 좌표에서의 미분을 수행 -> 편미분\r\n",
        "\r\n",
        "    # 1. f(x+h) 계산\r\n",
        "    x[idx] = tmp_val + h\r\n",
        "    fxh1 = f(x)\r\n",
        "\r\n",
        "    # 2. f(x-h) 계산\r\n",
        "    x[idx] = tmp_val - h\r\n",
        "    fxh2 = f(x)\r\n",
        "\r\n",
        "    # 3. 기울기 계산해서 grad 배열에 저장 ( 미분 수행 )\r\n",
        "    grad[idx] = (fxh1 - fxh2) / 2*h\r\n",
        "\r\n",
        "    # x[idx]를 원래 값으로 복구\r\n",
        "    x[idx] = tmp_val\r\n",
        "\r\n",
        "  return grad"
      ],
      "execution_count": 35,
      "outputs": []
    },
    {
      "cell_type": "code",
      "metadata": {
        "colab": {
          "base_uri": "https://localhost:8080/"
        },
        "id": "zHujmIxtO5Cl",
        "outputId": "ae8cb169-68fe-4079-b69c-7877d39c6175"
      },
      "source": [
        "result = numerical_gradient(function_2, np.array([3.0, 4.0]))\r\n",
        "print(\"x = [3, 4] 일 때의 기울기 배열 : {}\".format(result))"
      ],
      "execution_count": 36,
      "outputs": [
        {
          "output_type": "stream",
          "text": [
            "x = [3, 4] 일 때의 기울기 배열 : [6.e-08 8.e-08]\n"
          ],
          "name": "stdout"
        }
      ]
    },
    {
      "cell_type": "code",
      "metadata": {
        "colab": {
          "base_uri": "https://localhost:8080/",
          "height": 283
        },
        "id": "bwNo9PfhO5VF",
        "outputId": "96ccc495-ee61-40f3-ebf2-a20c01db0ef0"
      },
      "source": [
        "# coding: utf-8\r\n",
        "# cf.http://d.hatena.ne.jp/white_wheels/20100327/p3\r\n",
        "import numpy as np\r\n",
        "import matplotlib.pylab as plt\r\n",
        "from mpl_toolkits.mplot3d import Axes3D\r\n",
        "\r\n",
        "\r\n",
        "def _numerical_gradient_no_batch(f, x):\r\n",
        "    h = 1e-4 # 0.0001\r\n",
        "    grad = np.zeros_like(x) # x와 형상이 같은 배열을 생성\r\n",
        "    \r\n",
        "    for idx in range(x.size):\r\n",
        "        tmp_val = x[idx]\r\n",
        "        \r\n",
        "        # f(x+h) 계산\r\n",
        "        x[idx] = float(tmp_val) + h\r\n",
        "        fxh1 = f(x)\r\n",
        "        \r\n",
        "        # f(x-h) 계산\r\n",
        "        x[idx] = tmp_val - h \r\n",
        "        fxh2 = f(x) \r\n",
        "        \r\n",
        "        grad[idx] = (fxh1 - fxh2) / (2*h)\r\n",
        "        x[idx] = tmp_val # 값 복원\r\n",
        "        \r\n",
        "    return grad\r\n",
        "\r\n",
        "\r\n",
        "def numerical_gradient(f, X):\r\n",
        "    if X.ndim == 1:\r\n",
        "        return _numerical_gradient_no_batch(f, X)\r\n",
        "    else:\r\n",
        "        grad = np.zeros_like(X)\r\n",
        "        \r\n",
        "        for idx, x in enumerate(X):\r\n",
        "            grad[idx] = _numerical_gradient_no_batch(f, x)\r\n",
        "        \r\n",
        "        return grad\r\n",
        "\r\n",
        "\r\n",
        "def function_2(x):\r\n",
        "    if x.ndim == 1:\r\n",
        "        return np.sum(x**2)\r\n",
        "    else:\r\n",
        "        return np.sum(x**2, axis=1)\r\n",
        "\r\n",
        "\r\n",
        "def tangent_line(f, x):\r\n",
        "    d = numerical_gradient(f, x)\r\n",
        "    print(d)\r\n",
        "    y = f(x) - d*x\r\n",
        "    return lambda t: d*t + y\r\n",
        "     \r\n",
        "if __name__ == '__main__':\r\n",
        "    x0 = np.arange(-2, 2.5, 0.25)\r\n",
        "    x1 = np.arange(-2, 2.5, 0.25)\r\n",
        "    X, Y = np.meshgrid(x0, x1)\r\n",
        "    \r\n",
        "    X = X.flatten()\r\n",
        "    Y = Y.flatten()\r\n",
        "    \r\n",
        "    grad = numerical_gradient(function_2, np.array([X, Y]) )\r\n",
        "    \r\n",
        "    plt.figure()\r\n",
        "    plt.quiver(X, Y, -grad[0], -grad[1],  angles=\"xy\",color=\"#666666\")\r\n",
        "    plt.xlim([-2, 2])\r\n",
        "    plt.ylim([-2, 2])\r\n",
        "    plt.xlabel('x0')\r\n",
        "    plt.ylabel('x1')\r\n",
        "    plt.grid()\r\n",
        "    plt.draw()\r\n",
        "    plt.show()"
      ],
      "execution_count": 37,
      "outputs": [
        {
          "output_type": "display_data",
          "data": {
            "image/png": "[encoded data removed]",
            "text/plain": [
              "<Figure size 432x288 with 1 Axes>"
            ]
          },
          "metadata": {
            "tags": [],
            "needs_background": "light"
          }
        }
      ]
    },
    {
      "cell_type": "code",
      "metadata": {
        "id": "-rGDSWGKO6CU"
      },
      "source": [
        "# 경사하강법 구현\r\n",
        "# 편미분, lr, step_num, 초기 x 좌표\r\n",
        "\r\n",
        "\r\n",
        "def gradient_descent(f, init_x, lr=0.01, step_num=100):\r\n",
        "  x = init_x\r\n",
        "  xlist = []\r\n",
        "\r\n",
        "  for i in range(step_num):\r\n",
        "    grad = numerical_gradient(f, x)\r\n",
        "    x -= lr*grad\r\n",
        "    print('기울기:{} \\t x 좌표 : {}'.format(grad,x))\r\n",
        "  return x"
      ],
      "execution_count": 44,
      "outputs": []
    },
    {
      "cell_type": "code",
      "metadata": {
        "colab": {
          "base_uri": "https://localhost:8080/"
        },
        "id": "xLrWuxIuO0Dk",
        "outputId": "b9240999-a677-4448-a3bd-540821d9bd58"
      },
      "source": [
        "gradient_descent(function_2,np.array([3.0,4.0]))"
      ],
      "execution_count": 46,
      "outputs": [
        {
          "output_type": "stream",
          "text": [
            "기울기:[6. 8.] \t x 좌표 : [2.94 3.92]\n",
            "기울기:[5.88 7.84] \t x 좌표 : [2.8812 3.8416]\n",
            "기울기:[5.7624 7.6832] \t x 좌표 : [2.823576 3.764768]\n",
            "기울기:[5.647152 7.529536] \t x 좌표 : [2.76710448 3.68947264]\n",
            "기울기:[5.53420896 7.37894528] \t x 좌표 : [2.71176239 3.61568319]\n",
            "기울기:[5.42352478 7.23136637] \t x 좌표 : [2.65752714 3.54336952]\n",
            "기울기:[5.31505429 7.08673905] \t x 좌표 : [2.6043766  3.47250213]\n",
            "기울기:[5.2087532  6.94500427] \t x 좌표 : [2.55228907 3.40305209]\n",
            "기울기:[5.10457814 6.80610418] \t x 좌표 : [2.50124329 3.33499105]\n",
            "기울기:[5.00248657 6.6699821 ] \t x 좌표 : [2.45121842 3.26829123]\n",
            "기울기:[4.90243684 6.53658246] \t x 좌표 : [2.40219405 3.2029254 ]\n",
            "기울기:[4.8043881  6.40585081] \t x 좌표 : [2.35415017 3.13886689]\n",
            "기울기:[4.70830034 6.27773379] \t x 좌표 : [2.30706717 3.07608956]\n",
            "기울기:[4.61413434 6.15217911] \t x 좌표 : [2.26092582 3.01456777]\n",
            "기울기:[4.52185165 6.02913553] \t x 좌표 : [2.21570731 2.95427641]\n",
            "기울기:[4.43141462 5.90855282] \t x 좌표 : [2.17139316 2.89519088]\n",
            "기울기:[4.34278632 5.79038176] \t x 좌표 : [2.1279653  2.83728706]\n",
            "기울기:[4.2559306  5.67457413] \t x 좌표 : [2.08540599 2.78054132]\n",
            "기울기:[4.17081199 5.56108265] \t x 좌표 : [2.04369787 2.7249305 ]\n",
            "기울기:[4.08739575 5.44986099] \t x 좌표 : [2.00282392 2.67043189]\n",
            "기울기:[4.00564783 5.34086377] \t x 좌표 : [1.96276744 2.61702325]\n",
            "기울기:[3.92553487 5.2340465 ] \t x 좌표 : [1.92351209 2.56468278]\n",
            "기울기:[3.84702418 5.12936557] \t x 좌표 : [1.88504185 2.51338913]\n",
            "기울기:[3.77008369 5.02677826] \t x 좌표 : [1.84734101 2.46312135]\n",
            "기울기:[3.69468202 4.92624269] \t x 좌표 : [1.81039419 2.41385892]\n",
            "기울기:[3.62078838 4.82771784] \t x 좌표 : [1.77418631 2.36558174]\n",
            "기울기:[3.54837261 4.73116348] \t x 좌표 : [1.73870258 2.31827011]\n",
            "기울기:[3.47740516 4.63654021] \t x 좌표 : [1.70392853 2.2719047 ]\n",
            "기울기:[3.40785706 4.54380941] \t x 좌표 : [1.66984996 2.22646661]\n",
            "기울기:[3.33969991 4.45293322] \t x 좌표 : [1.63645296 2.18193728]\n",
            "기울기:[3.27290592 4.36387456] \t x 좌표 : [1.6037239  2.13829853]\n",
            "기울기:[3.2074478  4.27659706] \t x 좌표 : [1.57164942 2.09553256]\n",
            "기울기:[3.14329884 4.19106512] \t x 좌표 : [1.54021643 2.05362191]\n",
            "기울기:[3.08043287 4.10724382] \t x 좌표 : [1.5094121  2.01254947]\n",
            "기울기:[3.01882421 4.02509894] \t x 좌표 : [1.47922386 1.97229848]\n",
            "기울기:[2.95844772 3.94459696] \t x 좌표 : [1.44963938 1.93285251]\n",
            "기울기:[2.89927877 3.86570503] \t x 좌표 : [1.4206466  1.89419546]\n",
            "기울기:[2.84129319 3.78839093] \t x 좌표 : [1.39223366 1.85631155]\n",
            "기울기:[2.78446733 3.71262311] \t x 좌표 : [1.36438899 1.81918532]\n",
            "기울기:[2.72877798 3.63837064] \t x 좌표 : [1.33710121 1.78280162]\n",
            "기울기:[2.67420242 3.56560323] \t x 좌표 : [1.31035919 1.74714558]\n",
            "기울기:[2.62071838 3.49429117] \t x 좌표 : [1.284152   1.71220267]\n",
            "기울기:[2.56830401 3.42440534] \t x 좌표 : [1.25846896 1.67795862]\n",
            "기울기:[2.51693793 3.35591724] \t x 좌표 : [1.23329958 1.64439945]\n",
            "기울기:[2.46659917 3.28879889] \t x 좌표 : [1.20863359 1.61151146]\n",
            "기울기:[2.41726719 3.22302291] \t x 좌표 : [1.18446092 1.57928123]\n",
            "기울기:[2.36892184 3.15856246] \t x 좌표 : [1.1607717 1.5476956]\n",
            "기울기:[2.32154341 3.09539121] \t x 좌표 : [1.13755627 1.51674169]\n",
            "기울기:[2.27511254 3.03348338] \t x 좌표 : [1.11480514 1.48640686]\n",
            "기울기:[2.22961029 2.97281371] \t x 좌표 : [1.09250904 1.45667872]\n",
            "기울기:[2.18501808 2.91335744] \t x 좌표 : [1.07065886 1.42754515]\n",
            "기울기:[2.14131772 2.85509029] \t x 좌표 : [1.04924568 1.39899424]\n",
            "기울기:[2.09849136 2.79798849] \t x 좌표 : [1.02826077 1.37101436]\n",
            "기울기:[2.05652154 2.74202872] \t x 좌표 : [1.00769555 1.34359407]\n",
            "기울기:[2.01539111 2.68718814] \t x 좌표 : [0.98754164 1.31672219]\n",
            "기울기:[1.97508328 2.63344438] \t x 좌표 : [0.96779081 1.29038775]\n",
            "기울기:[1.93558162 2.58077549] \t x 좌표 : [0.94843499 1.26457999]\n",
            "기울기:[1.89686999 2.52915998] \t x 좌표 : [0.92946629 1.23928839]\n",
            "기울기:[1.85893259 2.47857678] \t x 좌표 : [0.91087697 1.21450262]\n",
            "기울기:[1.82175393 2.42900525] \t x 좌표 : [0.89265943 1.19021257]\n",
            "기울기:[1.78531886 2.38042514] \t x 좌표 : [0.87480624 1.16640832]\n",
            "기울기:[1.74961248 2.33281664] \t x 좌표 : [0.85731011 1.14308015]\n",
            "기울기:[1.71462023 2.28616031] \t x 좌표 : [0.84016391 1.12021855]\n",
            "기울기:[1.68032782 2.2404371 ] \t x 좌표 : [0.82336063 1.09781418]\n",
            "기울기:[1.64672127 2.19562836] \t x 좌표 : [0.80689342 1.0758579 ]\n",
            "기울기:[1.61378684 2.15171579] \t x 좌표 : [0.79075555 1.05434074]\n",
            "기울기:[1.58151111 2.10868147] \t x 좌표 : [0.77494044 1.03325392]\n",
            "기울기:[1.54988088 2.06650785] \t x 좌표 : [0.75944163 1.01258884]\n",
            "기울기:[1.51888327 2.02517769] \t x 좌표 : [0.7442528  0.99233707]\n",
            "기울기:[1.4885056  1.98467413] \t x 좌표 : [0.72936774 0.97249033]\n",
            "기울기:[1.45873549 1.94498065] \t x 좌표 : [0.71478039 0.95304052]\n",
            "기울기:[1.42956078 1.90608104] \t x 좌표 : [0.70048478 0.93397971]\n",
            "기울기:[1.40096956 1.86795942] \t x 좌표 : [0.68647509 0.91530011]\n",
            "기울기:[1.37295017 1.83060023] \t x 좌표 : [0.67274558 0.89699411]\n",
            "기울기:[1.34549117 1.79398823] \t x 좌표 : [0.65929067 0.87905423]\n",
            "기울기:[1.31858135 1.75810846] \t x 좌표 : [0.64610486 0.86147315]\n",
            "기울기:[1.29220972 1.72294629] \t x 좌표 : [0.63318276 0.84424368]\n",
            "기울기:[1.26636552 1.68848737] \t x 좌표 : [0.62051911 0.82735881]\n",
            "기울기:[1.24103821 1.65471762] \t x 좌표 : [0.60810872 0.81081163]\n",
            "기울기:[1.21621745 1.62162327] \t x 좌표 : [0.59594655 0.7945954 ]\n",
            "기울기:[1.1918931 1.5891908] \t x 좌표 : [0.58402762 0.77870349]\n",
            "기울기:[1.16805524 1.55740698] \t x 좌표 : [0.57234707 0.76312942]\n",
            "기울기:[1.14469413 1.52625884] \t x 좌표 : [0.56090013 0.74786683]\n",
            "기울기:[1.12180025 1.49573367] \t x 좌표 : [0.54968212 0.7329095 ]\n",
            "기울기:[1.09936425 1.46581899] \t x 좌표 : [0.53868848 0.71825131]\n",
            "기울기:[1.07737696 1.43650261] \t x 좌표 : [0.52791471 0.70388628]\n",
            "기울기:[1.05582942 1.40777256] \t x 좌표 : [0.51735642 0.68980856]\n",
            "기울기:[1.03471283 1.37961711] \t x 좌표 : [0.50700929 0.67601238]\n",
            "기울기:[1.01401858 1.35202477] \t x 좌표 : [0.4968691  0.66249214]\n",
            "기울기:[0.99373821 1.32498427] \t x 좌표 : [0.48693172 0.64924229]\n",
            "기울기:[0.97386344 1.29848459] \t x 좌표 : [0.47719309 0.63625745]\n",
            "기울기:[0.95438617 1.2725149 ] \t x 좌표 : [0.46764922 0.6235323 ]\n",
            "기울기:[0.93529845 1.2470646 ] \t x 좌표 : [0.45829624 0.61106165]\n",
            "기울기:[0.91659248 1.22212331] \t x 좌표 : [0.44913032 0.59884042]\n",
            "기울기:[0.89826063 1.19768084] \t x 좌표 : [0.44014771 0.58686361]\n",
            "기울기:[0.88029542 1.17372722] \t x 좌표 : [0.43134475 0.57512634]\n",
            "기울기:[0.86268951 1.15025268] \t x 좌표 : [0.42271786 0.56362381]\n",
            "기울기:[0.84543572 1.12724763] \t x 좌표 : [0.4142635  0.55235134]\n",
            "기울기:[0.828527   1.10470267] \t x 좌표 : [0.40597823 0.54130431]\n",
            "기울기:[0.81195646 1.08260862] \t x 좌표 : [0.39785867 0.53047822]\n"
          ],
          "name": "stdout"
        },
        {
          "output_type": "execute_result",
          "data": {
            "text/plain": [
              "array([0.39785867, 0.53047822])"
            ]
          },
          "metadata": {
            "tags": []
          },
          "execution_count": 46
        }
      ]
    },
    {
      "cell_type": "code",
      "metadata": {
        "colab": {
          "base_uri": "https://localhost:8080/"
        },
        "id": "yv1FYtecASZL",
        "outputId": "d0ee676d-e074-40c3-bfb6-9caf7e9eaf45"
      },
      "source": [
        "from google.colab import drive\n",
        "drive.mount('/content/drive')"
      ],
      "execution_count": 47,
      "outputs": [
        {
          "output_type": "stream",
          "text": [
            "Drive already mounted at /content/drive; to attempt to forcibly remount, call drive.mount(\"/content/drive\", force_remount=True).\n"
          ],
          "name": "stdout"
        }
      ]
    },
    {
      "cell_type": "code",
      "metadata": {
        "colab": {
          "base_uri": "https://localhost:8080/"
        },
        "id": "td4nv3GjAiXK",
        "outputId": "baf8d095-1b7b-4eb6-8357-901b07f53621"
      },
      "source": [
        "%cd /content/drive/MyDrive"
      ],
      "execution_count": 49,
      "outputs": [
        {
          "output_type": "stream",
          "text": [
            "/content/drive/MyDrive\n"
          ],
          "name": "stdout"
        }
      ]
    },
    {
      "cell_type": "code",
      "metadata": {
        "id": "qQQ3JXJaO1Dk"
      },
      "source": [
        "import numpy as np\r\n",
        "from common.functions import softmax,cross_entropy_error\r\n",
        "from common.gradient import numerical_gradient"
      ],
      "execution_count": 50,
      "outputs": []
    },
    {
      "cell_type": "markdown",
      "metadata": {
        "id": "k1J8r42PA4VS"
      },
      "source": [
        "# 신경망에서의 기울기\r\n",
        "\r\n",
        "신경망 학습이란 손실함수(loss)의 값을 최소화 시키는 가중치 w와 편향 b를 구하는 것이다.\r\n",
        "\r\n",
        "\r\n",
        "따라서 가중치의 기울기 배열을 구할 수 있지 않을까?\r\n",
        "- Loss에대한 w의 미분값을 구하는 것\r\n",
        "- W가 변했을때 Loss는 얼마만큼 변할 것인가?"
      ]
    },
    {
      "cell_type": "code",
      "metadata": {
        "id": "nQwz7_SzO1ak"
      },
      "source": [
        "# 클래스로 하는 이유\r\n",
        "# keras,tf,pytorch등을 사용하면 보통 개발자가 직접 커스터마이징 하는 경우가 많다.\r\n",
        "# 아주 기본적인 CNN, RNN(LSTM) 같은 경우는 그냥 쓰면 되지만, 실제 실무에서는 이런일이 많이 없다.\r\n",
        "# 특정한 비즈니스에 맞춰서 레이어를 커스터마이징 하는 것이 필요\r\n",
        "\r\n",
        "class SimpleNet:\r\n",
        "\r\n",
        "  # 신경망에서의 초기화는 필요한 매개변수를 준비하는 과정이다.\r\n",
        "  def __init__(self):\r\n",
        "    self.W = np.random.randn(2,3) # 정규분포로 초기화\r\n",
        "    #실제 신경망은 np.random.randn(2,3) * 0.01 로 만드는 경우가 많다 (표준편차를 0.01로 설정)\r\n",
        "\r\n",
        "  def predict(self,x):\r\n",
        "    return np.dot(x,self.W)\r\n",
        "\r\n",
        "  def loss(self,x,t):\r\n",
        "    # loss를 구하는 과정\r\n",
        "\r\n",
        "    # 1.예측\r\n",
        "    z = self.predict(x)\r\n",
        "    # 2.softmax 통과\r\n",
        "    y = softmax(z)\r\n",
        "    # 3.loss함수를 이용해 실제 loss값 구하기\r\n",
        "    loss = cross_entropy_error(y,t)\r\n",
        "    return loss"
      ],
      "execution_count": 51,
      "outputs": []
    },
    {
      "cell_type": "code",
      "metadata": {
        "colab": {
          "base_uri": "https://localhost:8080/"
        },
        "id": "-cJQjVcGO0WM",
        "outputId": "6c9f27ad-093b-4aaf-fe88-af8f55b300e7"
      },
      "source": [
        "net = SimpleNet()\r\n",
        "\r\n",
        "print('가중치 확인 : \\n{}'.format(net.W))"
      ],
      "execution_count": 53,
      "outputs": [
        {
          "output_type": "stream",
          "text": [
            "가중치 확인 : \n",
            "[[ 1.24855156 -0.40358696 -0.65877845]\n",
            " [ 0.77347112  1.0727318   0.55917045]]\n"
          ],
          "name": "stdout"
        }
      ]
    },
    {
      "cell_type": "code",
      "metadata": {
        "colab": {
          "base_uri": "https://localhost:8080/"
        },
        "id": "38dD_HswIu0Q",
        "outputId": "d87e2035-87fb-4859-a222-ad18937c589a"
      },
      "source": [
        "x = np.array([0.6,0.9])\r\n",
        "p = net.predict(x)\r\n",
        "\r\n",
        "print('단순 예측값 : \\n{}'.format(p))"
      ],
      "execution_count": 54,
      "outputs": [
        {
          "output_type": "stream",
          "text": [
            "단순 예측값 : \n",
            "[1.44525494 0.72330645 0.10798634]\n"
          ],
          "name": "stdout"
        }
      ]
    },
    {
      "cell_type": "code",
      "metadata": {
        "colab": {
          "base_uri": "https://localhost:8080/"
        },
        "id": "30fAxZd5JO32",
        "outputId": "033ee615-80b0-4029-f81b-72264b584b2e"
      },
      "source": [
        "print('최댓값의 인덱스 : {}'.format(np.argmax(p)))"
      ],
      "execution_count": 55,
      "outputs": [
        {
          "output_type": "stream",
          "text": [
            "최댓값의 인덱스 : 0\n"
          ],
          "name": "stdout"
        }
      ]
    },
    {
      "cell_type": "code",
      "metadata": {
        "colab": {
          "base_uri": "https://localhost:8080/"
        },
        "id": "wVBg_rqpJWSk",
        "outputId": "6eeb915d-435b-4f47-8540-a93ad2ad5066"
      },
      "source": [
        "# 임의의 정답을 마련하자\r\n",
        "t = np.array([0,1,0]) # 정답은 1\r\n",
        "\r\n",
        "net.loss(x,t)"
      ],
      "execution_count": 56,
      "outputs": [
        {
          "output_type": "execute_result",
          "data": {
            "text/plain": [
              "1.2806301113680694"
            ]
          },
          "metadata": {
            "tags": []
          },
          "execution_count": 56
        }
      ]
    },
    {
      "cell_type": "markdown",
      "metadata": {
        "id": "T1GZ9p71KDnu"
      },
      "source": [
        "Loss에 대한 기울기를 구하는 함수를 따로 만들자"
      ]
    },
    {
      "cell_type": "code",
      "metadata": {
        "colab": {
          "base_uri": "https://localhost:8080/"
        },
        "id": "p0FnUFoXJs7t",
        "outputId": "2bd04f42-0aa2-4adc-9a25-5eca67ff9359"
      },
      "source": [
        "#Loss에 대한 w의 기울기를 구하기 위한 함수\r\n",
        "def f(W):\r\n",
        "  return net.loss(x,t)\r\n",
        "\r\n",
        "# 기울기에 대한 Loss의 기울기 배열을 구할 수 있다\r\n",
        "\r\n",
        "dw = numerical_gradient(f,net.W)\r\n",
        "dw"
      ],
      "execution_count": 58,
      "outputs": [
        {
          "output_type": "execute_result",
          "data": {
            "text/plain": [
              "array([[ 0.34317733, -0.43328261,  0.09010528],\n",
              "       [ 0.514766  , -0.64992391,  0.13515791]])"
            ]
          },
          "metadata": {
            "tags": []
          },
          "execution_count": 58
        }
      ]
    },
    {
      "cell_type": "markdown",
      "metadata": {
        "id": "OKBdgUOcNlOQ"
      },
      "source": [
        "# MNIST 신경망 구현하기\r\n",
        "\r\n",
        "* 2층 신경망\r\n",
        "* 1층 은닉층의 뉴런 개수는 100개\r\n",
        " * 활성화 함수로 시그모이드 사용\r\n",
        "\r\n",
        "* 2층 출력층의 뉴런 개수는 10개\r\n",
        " * softmax를 사용함\r\n",
        "\r\n",
        "* loss는 cross entropy error 사용할 것\r\n",
        "* predict에서 softmax 적용할 것\r\n",
        "* 내부에 기울기 배열을 구하는 numerical_gradient 구현\r\n",
        "* 경사하강법을 여기서 구현하는 것은 아님!\r\n"
      ]
    },
    {
      "cell_type": "code",
      "metadata": {
        "id": "csdWdeTGKBVw"
      },
      "source": [
        "from common.functions import *\r\n",
        "from common.gradient import numerical_gradient\r\n",
        "\r\n",
        "class TwoLayerNet:\r\n",
        "  # input_size : 입력 데이터 shape\r\n",
        "  # hidden_size : 은닉층의 뉴런 개수\r\n",
        "  # output_size : 출력층의  뉴런 개수\r\n",
        "  # weight_init_std : 아직 신경 ㄴㄴ\r\n",
        "\r\n",
        "  def __init__(self, input_size, hidden_size, output_size, weight_init_std=0.01):\r\n",
        "    self.input_size = input_size\r\n",
        "    self.hidden_size = hidden_size\r\n",
        "    self.output_size = output_size\r\n",
        "\r\n",
        "    self.W1 = weight_init_std * np.random.randn(self.input_size, self.hidden_size)\r\n",
        "    self.b1 = np.random.randn(self.hidden_size)\r\n",
        "\r\n",
        "    self.W2 = weight_init_std * np.random.randn(self.hidden_size, self.output_size)\r\n",
        "    self.b2 = np.random.randn(self.output_size)\r\n",
        "\r\n",
        "  def predict(self, x):\r\n",
        "    z1 = np.dot(x, self.W1) + self.b1\r\n",
        "    a1 = sigmoid(z1)\r\n",
        "\r\n",
        "    z2 = np.dot(a1, self.W2) + self.b2\r\n",
        "    y = softmax(z2)\r\n",
        "\r\n",
        "    return y\r\n",
        "\r\n",
        "  def loss(self, x, t):\r\n",
        "    y = self.predict(x)\r\n",
        "    loss_val = cross_entropy_error(y,t)\r\n",
        "    return loss_val\r\n",
        "  \r\n",
        "  def accuracy(x, t):\r\n",
        "    y = self.predict(x)\r\n",
        "    y = np.argmax(y, axis=1)\r\n",
        "    t = np.argmax(t, axis=1)\r\n",
        "\r\n",
        "    accuracy = np.sum(y==t) / float(x.shape[0])\r\n",
        "    return accuracy\r\n",
        "\r\n",
        "  # 매개변수들의 기울기 배열을 구하는 함수\r\n",
        "  def numerical_gradient_params(self, x, t):\r\n",
        "    loss_W  = lambda W : self.loss(x,t)\r\n",
        "    # 각 층에서 구해지는 기울기를 저장할 딕셔너리\r\n",
        "    # 저장하는 이유 : 각 매개변수의 기울기를 저장 해야만 나중에 경사하강법을 수행 할 수 있다.\r\n",
        "    grads = {}\r\n",
        "    grads['W1'] = numerical_gradient(loss_W, self.W1)\r\n",
        "    grads['b1'] = numerical_gradient(loss_W, self.b1)\r\n",
        "    grads['W2'] = numerical_gradient(loss_W, self.W2)\r\n",
        "    grads['b2'] = numerical_gradient(loss_W, self.b2)\r\n",
        "\r\n",
        "    return grads"
      ],
      "execution_count": 71,
      "outputs": []
    },
    {
      "cell_type": "code",
      "metadata": {
        "id": "rCcTiWPxNJSF"
      },
      "source": [
        "from common.functions import *\r\n",
        "from common.gradient import numerical_gradient\r\n",
        "\r\n",
        "class TwoLayerNet:\r\n",
        "  # input_size : 입력 데이터 shape( 이미지 크기 ( 28 * 28 ))\r\n",
        "  # hidden_size : 은닉층의 뉴런 개수\r\n",
        "  # output_size : 출력층의 뉴런 개수\r\n",
        "  # weight_init_std :  정규분포 랜덤값에 표준편차를 적용하기 위함\r\n",
        "\r\n",
        "  def __init__(self, input_size, hidden_size, output_size, weight_init_std=0.01):\r\n",
        "    # 나중에 매개변수(W, B)들은 경사하강법으로 모두 한꺼번에 업데이트가 되어야 해요\r\n",
        "    self.params = {}\r\n",
        "\r\n",
        "    # 1층 매개변수 마련하기\r\n",
        "    self.params[\"W1\"] = weight_init_std * np.random.randn(input_size, hidden_size) # 정규분포 랜덤에다가 표준편차 0.01을 적용\r\n",
        "    self.params[\"b1\"] = np.zeros(hidden_size)\r\n",
        "\r\n",
        "    # 2층(출력층) 매개변수 마련하기\r\n",
        "    self.params[\"W2\"] = weight_init_std * np.random.randn(hidden_size, output_size)\r\n",
        "    self.params['b2'] = np.zeros(output_size)\r\n",
        "\r\n",
        "  def predict(self, X):\r\n",
        "    # 매개변수를 params에서 꺼내옵니다.\r\n",
        "    W1, W2, b1, b2 = self.params[\"W1\"], self.params[\"W2\"], self.params[\"b1\"], self.params[\"b2\"]\r\n",
        "\r\n",
        "    # 1층 계산\r\n",
        "    z1 = np.dot(x, W1) + b1\r\n",
        "    a1 = sigmoid(z1)\r\n",
        "\r\n",
        "    # 2층 계산\r\n",
        "    z2 = np.dot(a1, W2) + b2\r\n",
        "    y = softmax(z2)\r\n",
        "\r\n",
        "    return y\r\n",
        "\r\n",
        "  def loss(self, x, t):\r\n",
        "    # 1. predict\r\n",
        "    y = self.predict(x)\r\n",
        "\r\n",
        "    # 2. cee\r\n",
        "    loss_val = cross_entropy_error(y, t)\r\n",
        "\r\n",
        "    return loss_val\r\n",
        "  \r\n",
        "  # 구현 ㄴㄴ\r\n",
        "  def accuracy(x, t):\r\n",
        "    y = self.predict(x)\r\n",
        "    y = np.argmax(y, axis=1)\r\n",
        "    t = np.argmax(t, axis=1)\r\n",
        "\r\n",
        "    accuracy = np.sum(y==t) / float(x.shape[0])\r\n",
        "    return accuracy\r\n",
        "\r\n",
        "  # 매개변수들의 기울기 배열을 구하는 함수\r\n",
        "  def numerical_gradient_params(self, x, t):\r\n",
        "    print(\"미분 시작\")\r\n",
        "\r\n",
        "    loss_W = lambda W : self.loss(x, t) # L값 ( 미분 대상 함수 )\r\n",
        "    \r\n",
        "    # 각 층에서 구해지는 기울기를 저장할 딕셔너리\r\n",
        "    # 저장하는 이유 : 각 매개변수의 기울기를 저장 해야만 나중에 경사하강법을 수행할 수 있어요\r\n",
        "    grads = {}\r\n",
        "\r\n",
        "    # 1층 매개변수들의 기울기 구하기 (Loss에 대한 W1, b1의 기울기를 grads에 저장)\r\n",
        "    grads[\"W1\"] = numerical_gradient(loss_W, self.params[\"W1\"])\r\n",
        "    grads[\"b1\"] = numerical_gradient(loss_W, self.params[\"b1\"])\r\n",
        "\r\n",
        "    # 2층 매개변수들의 기울기 구하기 (Loss에 대한 W2, b2의 기울기를 grads에 저장)\r\n",
        "    grads[\"W2\"] = numerical_gradient(loss_W, self.params[\"W2\"])\r\n",
        "    grads[\"b2\"] = numerical_gradient(loss_W, self.params[\"b2\"])\r\n",
        "    \r\n",
        "    print(\"미분 끝\")\r\n",
        "\r\n",
        "    return grads"
      ],
      "execution_count": 72,
      "outputs": []
    },
    {
      "cell_type": "code",
      "metadata": {
        "id": "FIj-CjHsNJZJ"
      },
      "source": [
        "input_size = 28*28\r\n",
        "hidden_size = 100\r\n",
        "output_size = 10\r\n",
        "\r\n",
        "net = TwoLayerNet(input_size=input_size,hidden_size=hidden_size,output_size=output_size)"
      ],
      "execution_count": 73,
      "outputs": []
    },
    {
      "cell_type": "code",
      "metadata": {
        "colab": {
          "base_uri": "https://localhost:8080/"
        },
        "id": "r-goOBADNJgM",
        "outputId": "79bdf919-f07d-4c1b-a5df-b5f7a0a02ce7"
      },
      "source": [
        "net.params['W1'].shape, net.params['W2'].shape"
      ],
      "execution_count": 75,
      "outputs": [
        {
          "output_type": "execute_result",
          "data": {
            "text/plain": [
              "((784, 100), (100, 10))"
            ]
          },
          "metadata": {
            "tags": []
          },
          "execution_count": 75
        }
      ]
    },
    {
      "cell_type": "code",
      "metadata": {
        "id": "7Ut3lFC2hCur"
      },
      "source": [
        "# 신경망이 predict를 잘하는지를 보자\r\n",
        "\r\n",
        "x = np.random.rand(100,784)\r\n",
        "y = net.predict(x)"
      ],
      "execution_count": 76,
      "outputs": []
    },
    {
      "cell_type": "code",
      "metadata": {
        "colab": {
          "base_uri": "https://localhost:8080/"
        },
        "id": "Dt5C2yneiApI",
        "outputId": "65ada890-e6f8-49c6-bc5e-2280f75f969c"
      },
      "source": [
        "x.shape,y.shape"
      ],
      "execution_count": 77,
      "outputs": [
        {
          "output_type": "execute_result",
          "data": {
            "text/plain": [
              "((100, 784), (100, 10))"
            ]
          },
          "metadata": {
            "tags": []
          },
          "execution_count": 77
        }
      ]
    },
    {
      "cell_type": "markdown",
      "metadata": {
        "id": "uCQa68BriM55"
      },
      "source": [
        "# MNIST 데이터 로딩 및 전처리"
      ]
    },
    {
      "cell_type": "code",
      "metadata": {
        "id": "rKLoDzM6iDBw"
      },
      "source": [
        "from tensorflow.keras import datasets\r\n",
        "mnist = datasets.mnist\r\n",
        "\r\n",
        "(X_train, y_train), (X_test, y_test) = mnist.load_data()"
      ],
      "execution_count": 79,
      "outputs": []
    },
    {
      "cell_type": "code",
      "metadata": {
        "colab": {
          "base_uri": "https://localhost:8080/"
        },
        "id": "rv56QDz9icNv",
        "outputId": "518c89ab-d6e8-43b6-f14e-cc476028abbd"
      },
      "source": [
        "X_train.shape, y_train.shape"
      ],
      "execution_count": 80,
      "outputs": [
        {
          "output_type": "execute_result",
          "data": {
            "text/plain": [
              "((60000, 28, 28), (60000,))"
            ]
          },
          "metadata": {
            "tags": []
          },
          "execution_count": 80
        }
      ]
    },
    {
      "cell_type": "markdown",
      "metadata": {
        "id": "5fq1H89WiwOS"
      },
      "source": [
        "## 데이터 전처리"
      ]
    },
    {
      "cell_type": "code",
      "metadata": {
        "id": "ZZiTyP7Pivk2"
      },
      "source": [
        "from sklearn.preprocessing import OneHotEncoder\r\n",
        "y_train_dummy = OneHotEncoder().fit_transform(y_train.reshape(-1, 1))\r\n",
        "y_train_dummy = y_train_dummy.toarray()\r\n",
        "y_test_dummy = OneHotEncoder().fit_transform(y_test.reshape(-1, 1))\r\n",
        "y_test_dummy = y_test_dummy.toarray()"
      ],
      "execution_count": 81,
      "outputs": []
    },
    {
      "cell_type": "code",
      "metadata": {
        "colab": {
          "base_uri": "https://localhost:8080/"
        },
        "id": "H8S3ZLkoizu2",
        "outputId": "abee7ee8-1304-41cf-dba3-ecc9e4660528"
      },
      "source": [
        "y_train_dummy.shape, y_test_dummy.shape"
      ],
      "execution_count": 82,
      "outputs": [
        {
          "output_type": "execute_result",
          "data": {
            "text/plain": [
              "((60000, 10), (10000, 10))"
            ]
          },
          "metadata": {
            "tags": []
          },
          "execution_count": 82
        }
      ]
    },
    {
      "cell_type": "code",
      "metadata": {
        "colab": {
          "base_uri": "https://localhost:8080/"
        },
        "id": "wvN-4yfbi4a-",
        "outputId": "371c951d-65fd-4c26-eb69-7dee3ff6161f"
      },
      "source": [
        "#feature 전처리\r\n",
        "X_train = X_train.reshape(X_train.shape[0],-1)\r\n",
        "X_train = X_train / 255.0  # 이미지 정규화 기법 255으로 나눠주면 모든 픽셀 데이터가 0~1 사이의 값을 갖게 되고 훈련이 쉽게 된다.\r\n",
        "\r\n",
        "X_test = X_test.reshape(X_test.shape[0],-1)\r\n",
        "X_test = X_test / 255\r\n",
        "\r\n",
        "X_train.shape, X_test.shape"
      ],
      "execution_count": 83,
      "outputs": [
        {
          "output_type": "execute_result",
          "data": {
            "text/plain": [
              "((60000, 784), (10000, 784))"
            ]
          },
          "metadata": {
            "tags": []
          },
          "execution_count": 83
        }
      ]
    },
    {
      "cell_type": "markdown",
      "metadata": {
        "id": "7cjaGm09j1qO"
      },
      "source": [
        "## 훈련(학습)"
      ]
    },
    {
      "cell_type": "code",
      "metadata": {
        "id": "7gtjlCTXjQfF"
      },
      "source": [
        "from tqdm import tqdm_notebook\r\n",
        "\r\n",
        "# 반복 횟수 설정\r\n",
        "iter_nums = 10000\r\n",
        "\r\n",
        "# 미니 배치 설정 \r\n",
        "train_size = X_train.shape[0]\r\n",
        "batch_size = 100\r\n",
        "\r\n",
        "# 학습률 설정\r\n",
        "learning_rate = 0.1\r\n",
        "\r\n",
        "net = TwoLayerNet(input_size=input_size,hidden_size=hidden_size,output_size=output_size)"
      ],
      "execution_count": 87,
      "outputs": []
    },
    {
      "cell_type": "code",
      "metadata": {
        "colab": {
          "base_uri": "https://localhost:8080/",
          "height": 608,
          "referenced_widgets": [
            "5f061e840c9149bf89eb04f918392d78",
            "70444daea07440cc91ca070ed159a255",
            "efdeb71c615a41c791f47fb01cedfa0d",
            "a7500086857949bca17ff3edc4cd7c0e",
            "785ab93d9bbb4677a7fff85ba91dcefc",
            "830794fd7a3741cfadac16485aa89501",
            "f2e26eba26ff44f1857c39f994a926bb",
            "c42bfda42de5414d9d717d370cb3fade"
          ]
        },
        "id": "yaahHx5IkZ_z",
        "outputId": "f7e2a179-f643-446a-fee8-0f2f6156c3cf"
      },
      "source": [
        "for i in tqdm_notebook(range(iter_nums)):\r\n",
        "\r\n",
        "  # 미니 배치 인덱스 선정\r\n",
        "  batch_mask = np.random.choice(train_size, batch_size)\r\n",
        "\r\n",
        "  # 미니 배치 만들기\r\n",
        "\r\n",
        "  X_batch = X_train[batch_mask]\r\n",
        "  t_batch = y_train_dummy[batch_mask]\r\n",
        "\r\n",
        "  '''\r\n",
        "  각 배치 마다의 기울기를 계산 \r\n",
        "  netowork의 numerical_gradient_params에서 하는일 \r\n",
        "  1. 예측\r\n",
        "  2. cross_entropy_error를 이용한 LOss 구하기\r\n",
        "  3. 구해진 Loss값을 이용해 미분을 수행해서 각 층의 매개변수 기울기를 저장\r\n",
        "  '''\r\n",
        "\r\n",
        "  grads = net.numerical_gradient_params(X_batch,t_batch)\r\n",
        "\r\n",
        "  # 모든 매개변수의 기울기를 업데이트 (경사하강법)\r\n",
        "\r\n",
        "  for key in grads.keys():\r\n",
        "    net.params[key] -= learning_rate*grads[key] # 경사하강법 공식\r\n",
        "\r\n",
        "    #갱신된 loss 확인\r\n",
        "  loss = net.loss(X_batch,t_batch)\r\n",
        "  print('Step {} -> Loss : {}'.format(i+1, loss) )"
      ],
      "execution_count": 90,
      "outputs": [
        {
          "output_type": "stream",
          "text": [
            "/usr/local/lib/python3.6/dist-packages/ipykernel_launcher.py:1: TqdmDeprecationWarning: This function will be removed in tqdm==5.0.0\n",
            "Please use `tqdm.notebook.tqdm` instead of `tqdm.tqdm_notebook`\n",
            "  \"\"\"Entry point for launching an IPython kernel.\n"
          ],
          "name": "stderr"
        },
        {
          "output_type": "display_data",
          "data": {
            "application/vnd.jupyter.widget-view+json": {
              "model_id": "5f061e840c9149bf89eb04f918392d78",
              "version_minor": 0,
              "version_major": 2
            },
            "text/plain": [
              "HBox(children=(FloatProgress(value=0.0, max=10000.0), HTML(value='')))"
            ]
          },
          "metadata": {
            "tags": []
          }
        },
        {
          "output_type": "stream",
          "text": [
            "미분 시작\n",
            "미분 끝\n",
            "Step 1 -> Loss : 2.284958784835323\n",
            "미분 시작\n"
          ],
          "name": "stdout"
        },
        {
          "output_type": "error",
          "ename": "KeyboardInterrupt",
          "evalue": "ignored",
          "traceback": [
            "\u001b[0;31m---------------------------------------------------------------------------\u001b[0m",
            "\u001b[0;31mKeyboardInterrupt\u001b[0m                         Traceback (most recent call last)",
            "\u001b[0;32m<ipython-input-90-c76e594184d0>\u001b[0m in \u001b[0;36m<module>\u001b[0;34m()\u001b[0m\n\u001b[1;32m     17\u001b[0m   '''\n\u001b[1;32m     18\u001b[0m \u001b[0;34m\u001b[0m\u001b[0m\n\u001b[0;32m---> 19\u001b[0;31m   \u001b[0mgrads\u001b[0m \u001b[0;34m=\u001b[0m \u001b[0mnet\u001b[0m\u001b[0;34m.\u001b[0m\u001b[0mnumerical_gradient_params\u001b[0m\u001b[0;34m(\u001b[0m\u001b[0mX_batch\u001b[0m\u001b[0;34m,\u001b[0m\u001b[0mt_batch\u001b[0m\u001b[0;34m)\u001b[0m\u001b[0;34m\u001b[0m\u001b[0;34m\u001b[0m\u001b[0m\n\u001b[0m\u001b[1;32m     20\u001b[0m \u001b[0;34m\u001b[0m\u001b[0m\n\u001b[1;32m     21\u001b[0m   \u001b[0;31m# 모든 매개변수의 기울기를 업데이트 (경사하강법)\u001b[0m\u001b[0;34m\u001b[0m\u001b[0;34m\u001b[0m\u001b[0;34m\u001b[0m\u001b[0m\n",
            "\u001b[0;32m<ipython-input-72-b41cef4f2f69>\u001b[0m in \u001b[0;36mnumerical_gradient_params\u001b[0;34m(self, x, t)\u001b[0m\n\u001b[1;32m     63\u001b[0m \u001b[0;34m\u001b[0m\u001b[0m\n\u001b[1;32m     64\u001b[0m     \u001b[0;31m# 1층 매개변수들의 기울기 구하기 (Loss에 대한 W1, b1의 기울기를 grads에 저장)\u001b[0m\u001b[0;34m\u001b[0m\u001b[0;34m\u001b[0m\u001b[0;34m\u001b[0m\u001b[0m\n\u001b[0;32m---> 65\u001b[0;31m     \u001b[0mgrads\u001b[0m\u001b[0;34m[\u001b[0m\u001b[0;34m\"W1\"\u001b[0m\u001b[0;34m]\u001b[0m \u001b[0;34m=\u001b[0m \u001b[0mnumerical_gradient\u001b[0m\u001b[0;34m(\u001b[0m\u001b[0mloss_W\u001b[0m\u001b[0;34m,\u001b[0m \u001b[0mself\u001b[0m\u001b[0;34m.\u001b[0m\u001b[0mparams\u001b[0m\u001b[0;34m[\u001b[0m\u001b[0;34m\"W1\"\u001b[0m\u001b[0;34m]\u001b[0m\u001b[0;34m)\u001b[0m\u001b[0;34m\u001b[0m\u001b[0;34m\u001b[0m\u001b[0m\n\u001b[0m\u001b[1;32m     66\u001b[0m     \u001b[0mgrads\u001b[0m\u001b[0;34m[\u001b[0m\u001b[0;34m\"b1\"\u001b[0m\u001b[0;34m]\u001b[0m \u001b[0;34m=\u001b[0m \u001b[0mnumerical_gradient\u001b[0m\u001b[0;34m(\u001b[0m\u001b[0mloss_W\u001b[0m\u001b[0;34m,\u001b[0m \u001b[0mself\u001b[0m\u001b[0;34m.\u001b[0m\u001b[0mparams\u001b[0m\u001b[0;34m[\u001b[0m\u001b[0;34m\"b1\"\u001b[0m\u001b[0;34m]\u001b[0m\u001b[0;34m)\u001b[0m\u001b[0;34m\u001b[0m\u001b[0;34m\u001b[0m\u001b[0m\n\u001b[1;32m     67\u001b[0m \u001b[0;34m\u001b[0m\u001b[0m\n",
            "\u001b[0;32m/content/drive/MyDrive/common/gradient.py\u001b[0m in \u001b[0;36mnumerical_gradient\u001b[0;34m(f, x)\u001b[0m\n\u001b[1;32m     44\u001b[0m \u001b[0;34m\u001b[0m\u001b[0m\n\u001b[1;32m     45\u001b[0m         \u001b[0mx\u001b[0m\u001b[0;34m[\u001b[0m\u001b[0midx\u001b[0m\u001b[0;34m]\u001b[0m \u001b[0;34m=\u001b[0m \u001b[0mtmp_val\u001b[0m \u001b[0;34m-\u001b[0m \u001b[0mh\u001b[0m\u001b[0;34m\u001b[0m\u001b[0;34m\u001b[0m\u001b[0m\n\u001b[0;32m---> 46\u001b[0;31m         \u001b[0mfxh2\u001b[0m \u001b[0;34m=\u001b[0m \u001b[0mf\u001b[0m\u001b[0;34m(\u001b[0m\u001b[0mx\u001b[0m\u001b[0;34m)\u001b[0m \u001b[0;31m# f(x-h)\u001b[0m\u001b[0;34m\u001b[0m\u001b[0;34m\u001b[0m\u001b[0m\n\u001b[0m\u001b[1;32m     47\u001b[0m         \u001b[0mgrad\u001b[0m\u001b[0;34m[\u001b[0m\u001b[0midx\u001b[0m\u001b[0;34m]\u001b[0m \u001b[0;34m=\u001b[0m \u001b[0;34m(\u001b[0m\u001b[0mfxh1\u001b[0m \u001b[0;34m-\u001b[0m \u001b[0mfxh2\u001b[0m\u001b[0;34m)\u001b[0m \u001b[0;34m/\u001b[0m \u001b[0;34m(\u001b[0m\u001b[0;36m2\u001b[0m\u001b[0;34m*\u001b[0m\u001b[0mh\u001b[0m\u001b[0;34m)\u001b[0m\u001b[0;34m\u001b[0m\u001b[0;34m\u001b[0m\u001b[0m\n\u001b[1;32m     48\u001b[0m \u001b[0;34m\u001b[0m\u001b[0m\n",
            "\u001b[0;32m<ipython-input-72-b41cef4f2f69>\u001b[0m in \u001b[0;36m<lambda>\u001b[0;34m(W)\u001b[0m\n\u001b[1;32m     56\u001b[0m     \u001b[0mprint\u001b[0m\u001b[0;34m(\u001b[0m\u001b[0;34m\"미분 시작\"\u001b[0m\u001b[0;34m)\u001b[0m\u001b[0;34m\u001b[0m\u001b[0;34m\u001b[0m\u001b[0m\n\u001b[1;32m     57\u001b[0m \u001b[0;34m\u001b[0m\u001b[0m\n\u001b[0;32m---> 58\u001b[0;31m     \u001b[0mloss_W\u001b[0m \u001b[0;34m=\u001b[0m \u001b[0;32mlambda\u001b[0m \u001b[0mW\u001b[0m \u001b[0;34m:\u001b[0m \u001b[0mself\u001b[0m\u001b[0;34m.\u001b[0m\u001b[0mloss\u001b[0m\u001b[0;34m(\u001b[0m\u001b[0mx\u001b[0m\u001b[0;34m,\u001b[0m \u001b[0mt\u001b[0m\u001b[0;34m)\u001b[0m \u001b[0;31m# L값 ( 미분 대상 함수 )\u001b[0m\u001b[0;34m\u001b[0m\u001b[0;34m\u001b[0m\u001b[0m\n\u001b[0m\u001b[1;32m     59\u001b[0m \u001b[0;34m\u001b[0m\u001b[0m\n\u001b[1;32m     60\u001b[0m     \u001b[0;31m# 각 층에서 구해지는 기울기를 저장할 딕셔너리\u001b[0m\u001b[0;34m\u001b[0m\u001b[0;34m\u001b[0m\u001b[0;34m\u001b[0m\u001b[0m\n",
            "\u001b[0;32m<ipython-input-72-b41cef4f2f69>\u001b[0m in \u001b[0;36mloss\u001b[0;34m(self, x, t)\u001b[0m\n\u001b[1;32m     36\u001b[0m   \u001b[0;32mdef\u001b[0m \u001b[0mloss\u001b[0m\u001b[0;34m(\u001b[0m\u001b[0mself\u001b[0m\u001b[0;34m,\u001b[0m \u001b[0mx\u001b[0m\u001b[0;34m,\u001b[0m \u001b[0mt\u001b[0m\u001b[0;34m)\u001b[0m\u001b[0;34m:\u001b[0m\u001b[0;34m\u001b[0m\u001b[0;34m\u001b[0m\u001b[0m\n\u001b[1;32m     37\u001b[0m     \u001b[0;31m# 1. predict\u001b[0m\u001b[0;34m\u001b[0m\u001b[0;34m\u001b[0m\u001b[0;34m\u001b[0m\u001b[0m\n\u001b[0;32m---> 38\u001b[0;31m     \u001b[0my\u001b[0m \u001b[0;34m=\u001b[0m \u001b[0mself\u001b[0m\u001b[0;34m.\u001b[0m\u001b[0mpredict\u001b[0m\u001b[0;34m(\u001b[0m\u001b[0mx\u001b[0m\u001b[0;34m)\u001b[0m\u001b[0;34m\u001b[0m\u001b[0;34m\u001b[0m\u001b[0m\n\u001b[0m\u001b[1;32m     39\u001b[0m \u001b[0;34m\u001b[0m\u001b[0m\n\u001b[1;32m     40\u001b[0m     \u001b[0;31m# 2. cee\u001b[0m\u001b[0;34m\u001b[0m\u001b[0;34m\u001b[0m\u001b[0;34m\u001b[0m\u001b[0m\n",
            "\u001b[0;32m<ipython-input-72-b41cef4f2f69>\u001b[0m in \u001b[0;36mpredict\u001b[0;34m(self, X)\u001b[0m\n\u001b[1;32m     25\u001b[0m \u001b[0;34m\u001b[0m\u001b[0m\n\u001b[1;32m     26\u001b[0m     \u001b[0;31m# 1층 계산\u001b[0m\u001b[0;34m\u001b[0m\u001b[0;34m\u001b[0m\u001b[0;34m\u001b[0m\u001b[0m\n\u001b[0;32m---> 27\u001b[0;31m     \u001b[0mz1\u001b[0m \u001b[0;34m=\u001b[0m \u001b[0mnp\u001b[0m\u001b[0;34m.\u001b[0m\u001b[0mdot\u001b[0m\u001b[0;34m(\u001b[0m\u001b[0mx\u001b[0m\u001b[0;34m,\u001b[0m \u001b[0mW1\u001b[0m\u001b[0;34m)\u001b[0m \u001b[0;34m+\u001b[0m \u001b[0mb1\u001b[0m\u001b[0;34m\u001b[0m\u001b[0;34m\u001b[0m\u001b[0m\n\u001b[0m\u001b[1;32m     28\u001b[0m     \u001b[0ma1\u001b[0m \u001b[0;34m=\u001b[0m \u001b[0msigmoid\u001b[0m\u001b[0;34m(\u001b[0m\u001b[0mz1\u001b[0m\u001b[0;34m)\u001b[0m\u001b[0;34m\u001b[0m\u001b[0;34m\u001b[0m\u001b[0m\n\u001b[1;32m     29\u001b[0m \u001b[0;34m\u001b[0m\u001b[0m\n",
            "\u001b[0;32m<__array_function__ internals>\u001b[0m in \u001b[0;36mdot\u001b[0;34m(*args, **kwargs)\u001b[0m\n",
            "\u001b[0;31mKeyboardInterrupt\u001b[0m: "
          ]
        }
      ]
    },
    {
      "cell_type": "code",
      "metadata": {
        "id": "7qYLeGRjkxZh"
      },
      "source": [
        ""
      ],
      "execution_count": null,
      "outputs": []
    },
    {
      "cell_type": "code",
      "metadata": {
        "id": "y4OIXNxxnsyh"
      },
      "source": [
        ""
      ],
      "execution_count": null,
      "outputs": []
    }
  ]
}