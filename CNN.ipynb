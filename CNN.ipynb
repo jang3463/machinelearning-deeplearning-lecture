{
  "nbformat": 4,
  "nbformat_minor": 0,
  "metadata": {
    "colab": {
      "name": "CNN.ipynb",
      "provenance": [],
      "authorship_tag": "ABX9TyOwKRIVaUtQnA4hBho7UFOk",
      "include_colab_link": true
    },
    "kernelspec": {
      "name": "python3",
      "display_name": "Python 3"
    },
    "accelerator": "GPU"
  },
  "cells": [
    {
      "cell_type": "markdown",
      "metadata": {
        "id": "view-in-github",
        "colab_type": "text"
      },
      "source": [
        "<a href=\"https://colab.research.google.com/github/jang3463/machinelearning-deeplearning-lecture/blob/main/CNN.ipynb\" target=\"_parent\"><img src=\"https://colab.research.google.com/assets/colab-badge.svg\" alt=\"Open In Colab\"/></a>"
      ]
    },
    {
      "cell_type": "markdown",
      "metadata": {
        "id": "jqc0hjxAAcky"
      },
      "source": [
        "# MNIST 데이터 준비 및 시각화"
      ]
    },
    {
      "cell_type": "code",
      "metadata": {
        "id": "c_06rfukys7-"
      },
      "source": [
        "import tensorflow as tf\r\n",
        "from tensorflow.keras import datasets\r\n",
        "\r\n",
        "import matplotlib.pyplot as plt\r\n"
      ],
      "execution_count": 2,
      "outputs": []
    },
    {
      "cell_type": "code",
      "metadata": {
        "colab": {
          "base_uri": "https://localhost:8080/"
        },
        "id": "su4lohr5AJVa",
        "outputId": "aad72d8b-fb19-44ab-adb2-1926f72e2764"
      },
      "source": [
        "(X_train,y_train),(X_test,y_test) = datasets.mnist.load_data()"
      ],
      "execution_count": 3,
      "outputs": [
        {
          "output_type": "stream",
          "text": [
            "Downloading data from https://storage.googleapis.com/tensorflow/tf-keras-datasets/mnist.npz\n",
            "11493376/11490434 [==============================] - 0s 0us/step\n"
          ],
          "name": "stdout"
        }
      ]
    },
    {
      "cell_type": "code",
      "metadata": {
        "colab": {
          "base_uri": "https://localhost:8080/"
        },
        "id": "bUbgldTkAJb3",
        "outputId": "db2004c1-bb0c-4078-aab6-51d21514567b"
      },
      "source": [
        "# 이미지를 가져왔으니까 시각화 해보고, 형상(shape) 확인해보기\r\n",
        "\r\n",
        "image = X_train[0]\r\n",
        "image.shape"
      ],
      "execution_count": 4,
      "outputs": [
        {
          "output_type": "execute_result",
          "data": {
            "text/plain": [
              "(28, 28)"
            ]
          },
          "metadata": {
            "tags": []
          },
          "execution_count": 4
        }
      ]
    },
    {
      "cell_type": "code",
      "metadata": {
        "colab": {
          "base_uri": "https://localhost:8080/",
          "height": 265
        },
        "id": "wtC_O2t-AJhv",
        "outputId": "e1b4e886-62b5-4fac-8e91-9cdb7fc64059"
      },
      "source": [
        "plt.imshow(image,'gray')\r\n",
        "plt.show()"
      ],
      "execution_count": 5,
      "outputs": [
        {
          "output_type": "display_data",
          "data": {
            "image/png": "[encoded data removed]",
            "text/plain": [
              "<Figure size 432x288 with 1 Axes>"
            ]
          },
          "metadata": {
            "tags": [],
            "needs_background": "light"
          }
        }
      ]
    },
    {
      "cell_type": "code",
      "metadata": {
        "colab": {
          "base_uri": "https://localhost:8080/"
        },
        "id": "H50tbzf4AJmw",
        "outputId": "fe047f6c-54e8-4094-cfbe-021c8419f3cb"
      },
      "source": [
        "# 실제 CNN 레이어에 집어 넣기 위해서는 4차원 형태를 유지해야 한다.\r\n",
        "# (N,H,W,C) -> (배치크기, 높이, 가로 , 채널)\r\n",
        "# MNIST 손글씨 이미지 : 높이 -28px, 가로 -28px, 채널 -1\r\n",
        "\r\n",
        "image = image[tf.newaxis, ...,tf.newaxis]\r\n",
        "image.shape"
      ],
      "execution_count": 6,
      "outputs": [
        {
          "output_type": "execute_result",
          "data": {
            "text/plain": [
              "(1, 28, 28, 1)"
            ]
          },
          "metadata": {
            "tags": []
          },
          "execution_count": 6
        }
      ]
    },
    {
      "cell_type": "markdown",
      "metadata": {
        "id": "UFZqwMZUB12u"
      },
      "source": [
        "# Conv2D 레이어 사용하기\r\n",
        "# keras의 대표적인 CNN레이어는 두가지가 있다.\r\n",
        "- Conv2D\r\n",
        "    - 'stride'가 2방향으로 움직인다. (가로,세로)\r\n",
        "    - 이미지 분석을 위해 사용되는 일반적인 합성곱 레이어\r\n",
        "- Conv1D\r\n",
        "    - 'stride'가 1방향으로 움직인다. (세로)\r\n",
        "    - 텍스트 분석을 위해 사용되는 레이어 ('char CNN')\r\n",
        "\r\n",
        "--------\r\n",
        "## 매개변수의 정리\r\n",
        "- filters : 필터의 개수\r\n",
        "- knernel_size : 필터의 크기\r\n",
        "- strides : 몇 개의 픽셀을 스킵 하면서 필터가 훓게 할지 결정\r\n",
        "- padding : '0'으로 쌓여진 패딩을 만들 것인지에 대한 설정\r\n",
        "  - VALID : 패딩을 만들지 않기\r\n",
        "  - SAME : 패딩 생성\r\n",
        "- activation : 활성화 함수 지정하기. 따로 설정하지 않고 추후 레이어로 추가 가능"
      ]
    },
    {
      "cell_type": "code",
      "metadata": {
        "colab": {
          "base_uri": "https://localhost:8080/"
        },
        "id": "5QR1JwkjAJre",
        "outputId": "bc6bf184-2da9-4996-a26e-4247b5313e2e"
      },
      "source": [
        "tf.keras.layers.Conv2D(\r\n",
        "    filters = 3,\r\n",
        "    kernel_size = (3,3),\r\n",
        "    strides = (1,1),\r\n",
        "    padding = 'SAME',\r\n",
        "    activation = 'relu'\r\n",
        ")"
      ],
      "execution_count": 7,
      "outputs": [
        {
          "output_type": "execute_result",
          "data": {
            "text/plain": [
              "<tensorflow.python.keras.layers.convolutional.Conv2D at 0x7f62ff856860>"
            ]
          },
          "metadata": {
            "tags": []
          },
          "execution_count": 7
        }
      ]
    },
    {
      "cell_type": "code",
      "metadata": {
        "colab": {
          "base_uri": "https://localhost:8080/"
        },
        "id": "SgkIHZKvAJwu",
        "outputId": "c983d67e-0e74-4d20-f53d-0e6c5be0d160"
      },
      "source": [
        "# 필터의 가로,세로 크기 및 스트라이드의 가로 세로를 똑같이 하려면 굳이 튜플로 넣어줄 피룡는 없다.\r\n",
        "tf.keras.layers.Conv2D(\r\n",
        "    filters = 3,\r\n",
        "    kernel_size = 3,\r\n",
        "    strides = 1,\r\n",
        "    padding = 'SAME',\r\n",
        "    activation = 'relu'\r\n",
        ")"
      ],
      "execution_count": 8,
      "outputs": [
        {
          "output_type": "execute_result",
          "data": {
            "text/plain": [
              "<tensorflow.python.keras.layers.convolutional.Conv2D at 0x7f63067d1208>"
            ]
          },
          "metadata": {
            "tags": []
          },
          "execution_count": 8
        }
      ]
    },
    {
      "cell_type": "markdown",
      "metadata": {
        "id": "JNDCyF0oDwUp"
      },
      "source": [
        "# Convolution 레이어 시각화"
      ]
    },
    {
      "cell_type": "code",
      "metadata": {
        "colab": {
          "base_uri": "https://localhost:8080/"
        },
        "id": "y9nKtaACDey5",
        "outputId": "3070e741-8771-4a5e-e193-af7d75ceb56d"
      },
      "source": [
        "# image를 tensorflow 배열로 만들기\r\n",
        "image = tf.cast(image,dtype=tf.float32)\r\n",
        "image.dtype"
      ],
      "execution_count": 9,
      "outputs": [
        {
          "output_type": "execute_result",
          "data": {
            "text/plain": [
              "tf.float32"
            ]
          },
          "metadata": {
            "tags": []
          },
          "execution_count": 9
        }
      ]
    },
    {
      "cell_type": "code",
      "metadata": {
        "id": "h4HX3jiaD7T3"
      },
      "source": [
        "layer = tf.keras.layers.Conv2D(filters = 5, kernel_size = 3, strides = 1, padding = 'same')"
      ],
      "execution_count": 10,
      "outputs": []
    },
    {
      "cell_type": "code",
      "metadata": {
        "colab": {
          "base_uri": "https://localhost:8080/"
        },
        "id": "940KFH-BEG0v",
        "outputId": "155cd8b5-6b58-487b-dac9-0a11c9d45402"
      },
      "source": [
        "# tensorflow에서 레이어에 데이터 전달 하는 방법\r\n",
        "output = layer(image)\r\n",
        "output.shape"
      ],
      "execution_count": 11,
      "outputs": [
        {
          "output_type": "execute_result",
          "data": {
            "text/plain": [
              "TensorShape([1, 28, 28, 5])"
            ]
          },
          "metadata": {
            "tags": []
          },
          "execution_count": 11
        }
      ]
    },
    {
      "cell_type": "code",
      "metadata": {
        "colab": {
          "base_uri": "https://localhost:8080/",
          "height": 167
        },
        "id": "_DkMdN_JFRoK",
        "outputId": "40af7564-4571-4b0d-a049-fbbf6b947581"
      },
      "source": [
        "# MNIST 이미지 5에 대한 Conv 레이어 통과 후 시각화\r\n",
        "\r\n",
        "_, axes = plt.subplots(nrows=1, ncols=6, figsize=(20, 10))\r\n",
        "axes[0].imshow(image[0, ..., 0], cmap='gray')\r\n",
        "axes[0].set_title(\"Original Image\")\r\n",
        "\r\n",
        "for idx, ax in enumerate(axes[1: ]):\r\n",
        "  ax.set_title(\"Output : {}\".format(idx + 1))\r\n",
        "  ax.imshow(output[0, ..., idx], cmap='gray')\r\n",
        "\r\n",
        "plt.show()"
      ],
      "execution_count": 12,
      "outputs": [
        {
          "output_type": "display_data",
          "data": {
            "image/png": "[encoded data removed]",
            "text/plain": [
              "<Figure size 1440x720 with 6 Axes>"
            ]
          },
          "metadata": {
            "tags": [],
            "needs_background": "light"
          }
        }
      ]
    },
    {
      "cell_type": "markdown",
      "metadata": {
        "id": "jtbRKfq8GnP8"
      },
      "source": [
        "# Filter 시각화 하기\r\n",
        "- CNN에서 Filter의 역할은 실제 CNN 레이어가 이미지의 무엇을 보고 있는가를 이야기한다.\r\n",
        "- keras의 레이어들은 get_weights() 함수를 이용해서 편향과 가중치 등을 볼 수 있다."
      ]
    },
    {
      "cell_type": "code",
      "metadata": {
        "id": "2zNYk6ZgFUnM"
      },
      "source": [
        "# 케라스의 모든 계산 가능한 레이어에서 매개변수 뽑아내기(가중치, 편향)\r\n",
        "# layer - Conv2D 레이어 필터 모양 : ( 3, 3, 1, 5 ) - ( 필터 세로, 필터 가로, 채널 수, 필터 개수 )\r\n",
        "weights = layer.get_weights()"
      ],
      "execution_count": 13,
      "outputs": []
    },
    {
      "cell_type": "code",
      "metadata": {
        "colab": {
          "base_uri": "https://localhost:8080/"
        },
        "id": "H2kGEgOgLSx6",
        "outputId": "1812182c-3d51-4b06-e8f7-0a0d316907c3"
      },
      "source": [
        "print(\"가중치의 형상 : {}\".format(weights[0].shape))\r\n",
        "print(\"편향의 형상 : {}\".format(weights[1].shape))"
      ],
      "execution_count": 14,
      "outputs": [
        {
          "output_type": "stream",
          "text": [
            "가중치의 형상 : (3, 3, 1, 5)\n",
            "편향의 형상 : (5,)\n"
          ],
          "name": "stdout"
        }
      ]
    },
    {
      "cell_type": "code",
      "metadata": {
        "colab": {
          "base_uri": "https://localhost:8080/",
          "height": 188
        },
        "id": "P2WM6vTxLUcP",
        "outputId": "9718c219-7363-43ae-e51f-6d9852b2c771"
      },
      "source": [
        "# 시각화\r\n",
        "_, axes = plt.subplots(nrows=1, ncols=5, figsize=(20, 10))\r\n",
        "\r\n",
        "for idx, ax in enumerate(axes):\r\n",
        "  ax.set_title(\"Filter {}\".format(idx + 1))\r\n",
        "  ax.imshow(weights[0][..., 0, idx], cmap='gray')\r\n",
        "  \r\n",
        "plt.show()"
      ],
      "execution_count": 15,
      "outputs": [
        {
          "output_type": "display_data",
          "data": {
            "image/png": "[encoded data removed]",
            "text/plain": [
              "<Figure size 1440x720 with 5 Axes>"
            ]
          },
          "metadata": {
            "tags": [],
            "needs_background": "light"
          }
        }
      ]
    },
    {
      "cell_type": "markdown",
      "metadata": {
        "id": "1zO6R-zOM4Iu"
      },
      "source": [
        "# ReLU 레이어 시각화\r\n",
        "* 이미지 분석에서 `ReLU`가 자주 사용됩니다.\r\n",
        "* 이미지 데이터에서 음수 데이터는 필요가 없는 데이터이다.\r\n",
        " * 필요 없는 음수 데이터는 제거하고, 의미 있는 양수 데이터만 강조하기 위해서 `ReLU`가 일반적으로 사용된다."
      ]
    },
    {
      "cell_type": "code",
      "metadata": {
        "colab": {
          "base_uri": "https://localhost:8080/"
        },
        "id": "6vaDCDamLWEH",
        "outputId": "07737f2a-2275-4a62-e7af-4d24244a7c65"
      },
      "source": [
        "import numpy as np\r\n",
        "np.min(output), np.max(output)"
      ],
      "execution_count": 16,
      "outputs": [
        {
          "output_type": "execute_result",
          "data": {
            "text/plain": [
              "(-240.8969, 156.13103)"
            ]
          },
          "metadata": {
            "tags": []
          },
          "execution_count": 16
        }
      ]
    },
    {
      "cell_type": "code",
      "metadata": {
        "colab": {
          "base_uri": "https://localhost:8080/"
        },
        "id": "wKHaaWyHM6Bb",
        "outputId": "4ef1de26-04e5-4556-e747-a82602741ea4"
      },
      "source": [
        "act_layer = tf.keras.layers.ReLU()\r\n",
        "act_output = act_layer(output) # 합성곱의 결과가 활성화 레이어로 들어간다.\r\n",
        "act_output.shape # output의 형상과 똑같다."
      ],
      "execution_count": 17,
      "outputs": [
        {
          "output_type": "execute_result",
          "data": {
            "text/plain": [
              "TensorShape([1, 28, 28, 5])"
            ]
          },
          "metadata": {
            "tags": []
          },
          "execution_count": 17
        }
      ]
    },
    {
      "cell_type": "code",
      "metadata": {
        "colab": {
          "base_uri": "https://localhost:8080/"
        },
        "id": "csG9QPJfM7fM",
        "outputId": "bd6adc03-4d08-45a8-f5f9-0580afe0922b"
      },
      "source": [
        "np.min(act_output), np.max(act_output)\r\n"
      ],
      "execution_count": 18,
      "outputs": [
        {
          "output_type": "execute_result",
          "data": {
            "text/plain": [
              "(0.0, 156.13103)"
            ]
          },
          "metadata": {
            "tags": []
          },
          "execution_count": 18
        }
      ]
    },
    {
      "cell_type": "code",
      "metadata": {
        "colab": {
          "base_uri": "https://localhost:8080/",
          "height": 167
        },
        "id": "4M-AbwuJM9jj",
        "outputId": "5b8834f4-8dc3-477a-dbe0-b0924bf340da"
      },
      "source": [
        "# ReLU 레이어를 통과 시키고 나서의 결과\r\n",
        "_, axes = plt.subplots(nrows=1, ncols=6, figsize=(20, 10))\r\n",
        "\r\n",
        "axes[0].imshow(image[0, ..., 0], cmap='gray')\r\n",
        "axes[0].set_title(\"Original Image\")\r\n",
        "\r\n",
        "for idx, ax in enumerate(axes[1:]):\r\n",
        "  ax.set_title(\"ReLU Output : {}\".format(idx + 1))\r\n",
        "  ax.imshow(act_output[0, ..., idx], cmap='gray')\r\n",
        "\r\n",
        "plt.show()"
      ],
      "execution_count": 19,
      "outputs": [
        {
          "output_type": "display_data",
          "data": {
            "image/png": "[encoded data removed]",
            "text/plain": [
              "<Figure size 1440x720 with 6 Axes>"
            ]
          },
          "metadata": {
            "tags": [],
            "needs_background": "light"
          }
        }
      ]
    },
    {
      "cell_type": "markdown",
      "metadata": {
        "id": "lrRI76xDOUlG"
      },
      "source": [
        "# MaxPooling 레이어 확인하기\r\n",
        "이미지 A와 이미지 B가 예를 들어 1px 정도만 차이나는 굉장히 유사한 이미지라면, 그 결과물도 유사하게 나타나게 하기 위한 처리"
      ]
    },
    {
      "cell_type": "code",
      "metadata": {
        "colab": {
          "base_uri": "https://localhost:8080/"
        },
        "id": "YfWsl9qlM_F7",
        "outputId": "d8b4dcf8-c014-4ff6-bcdf-db2d6b44f31c"
      },
      "source": [
        "pool_layer = tf.keras.layers.MaxPool2D(pool_size=(2, 2), strides=(2, 2), padding='SAME')\r\n",
        "pool_output = pool_layer(act_output)\r\n",
        "\r\n",
        "pool_output.shape"
      ],
      "execution_count": 20,
      "outputs": [
        {
          "output_type": "execute_result",
          "data": {
            "text/plain": [
              "TensorShape([1, 14, 14, 5])"
            ]
          },
          "metadata": {
            "tags": []
          },
          "execution_count": 20
        }
      ]
    },
    {
      "cell_type": "code",
      "metadata": {
        "colab": {
          "base_uri": "https://localhost:8080/",
          "height": 167
        },
        "id": "iSjQfwSbOWmi",
        "outputId": "dda3b723-39e1-4fbf-be94-7b8135f75dfd"
      },
      "source": [
        "_, axes = plt.subplots(nrows=1, ncols=6, figsize=(20, 10))\r\n",
        "\r\n",
        "axes[0].imshow(image[0, ..., 0], cmap='gray')\r\n",
        "axes[0].set_title(\"Original Image\")\r\n",
        "\r\n",
        "for idx, ax in enumerate(axes[1:]):\r\n",
        "  ax.set_title(\"MaxPool Output : {}\".format(idx + 1))\r\n",
        "  ax.imshow(pool_output[0, ..., idx], cmap='gray')\r\n",
        "\r\n",
        "plt.show()"
      ],
      "execution_count": 21,
      "outputs": [
        {
          "output_type": "display_data",
          "data": {
            "image/png": "[encoded data removed]",
            "text/plain": [
              "<Figure size 1440x720 with 6 Axes>"
            ]
          },
          "metadata": {
            "tags": [],
            "needs_background": "light"
          }
        }
      ]
    },
    {
      "cell_type": "markdown",
      "metadata": {
        "id": "hnmy_CFgPu1W"
      },
      "source": [
        "예측을 위한 과정 만들기\r\n",
        "\r\n",
        "예측을 하겠다 라는 이야기는 $WX+B$를 하겠다 라는 이야기 입니다. 즉 모든 데이터는 1차원 형태로 만들어져서 뉴런에 들어가야한다.\r\n",
        "\r\n",
        "# Flatten 레이어 확인하기\r\n",
        "* MaxPool2D 까지는 특징 추출 과정\r\n",
        " * 에측을 하기 위한 과정이 아닌, 데이터에 대한 특징만 추출\r\n",
        "* 예측을 하기 위해서는 Fully Connected 과정이 필요하다.\r\n",
        " * Dense 레이어를 사용할 것임\r\n",
        "* Fully Connected Layer를 사용하기 위해서는 데이터가 평탄화 되어 있어야 한다."
      ]
    },
    {
      "cell_type": "code",
      "metadata": {
        "colab": {
          "base_uri": "https://localhost:8080/"
        },
        "id": "c6gx2cZLOYRB",
        "outputId": "8e2dc79c-6938-4e0d-d28f-581865ac13d0"
      },
      "source": [
        "flatten_layer = tf.keras.layers.Flatten()\r\n",
        "flatten_output = flatten_layer(pool_output)\r\n",
        "\r\n",
        "flatten_output.shape # ( 1, 14, 14, 5 ) 형상의 데이터에서 배치크기 정보(1)를 제외한 픽셀, 필터 개수 정보가 모두 곱해져서 (1, 980)이 ㄷ"
      ],
      "execution_count": 22,
      "outputs": [
        {
          "output_type": "execute_result",
          "data": {
            "text/plain": [
              "TensorShape([1, 980])"
            ]
          },
          "metadata": {
            "tags": []
          },
          "execution_count": 22
        }
      ]
    },
    {
      "cell_type": "markdown",
      "metadata": {
        "id": "hvLzT73VQ4Ok"
      },
      "source": [
        "# Dense 레이어 확인하기 ( Affine )\r\n",
        "* 계산 과정($WX+B$)을 위한 Dense 레이어 - Fully Connected 레이어 라고도 한다."
      ]
    },
    {
      "cell_type": "code",
      "metadata": {
        "colab": {
          "base_uri": "https://localhost:8080/"
        },
        "id": "3nJRQTFXP4GN",
        "outputId": "d9300da6-5348-4533-b74f-40244b0e0751"
      },
      "source": [
        "# 유닛이 32개인 Dense 레이어 만들기\r\n",
        "dense_layer = tf.keras.layers.Dense(32, activation='relu')\r\n",
        "dense_output = dense_layer(flatten_output)\r\n",
        "\r\n",
        "dense_output.shape"
      ],
      "execution_count": 23,
      "outputs": [
        {
          "output_type": "execute_result",
          "data": {
            "text/plain": [
              "TensorShape([1, 32])"
            ]
          },
          "metadata": {
            "tags": []
          },
          "execution_count": 23
        }
      ]
    },
    {
      "cell_type": "code",
      "metadata": {
        "colab": {
          "base_uri": "https://localhost:8080/"
        },
        "id": "vRXsIfCJQ6OK",
        "outputId": "33a48891-d459-4d22-e965-3b9557cfeb41"
      },
      "source": [
        "# 출력층 설계\r\n",
        "# 숫자의 개수는 10개니까, 출력층의 output 개수도 10개\r\n",
        "dense_layer2 = tf.keras.layers.Dense(10, activation='softmax')\r\n",
        "dense_output2 = dense_layer2(dense_output)\r\n",
        "\r\n",
        "dense_output2.shape"
      ],
      "execution_count": 24,
      "outputs": [
        {
          "output_type": "execute_result",
          "data": {
            "text/plain": [
              "TensorShape([1, 10])"
            ]
          },
          "metadata": {
            "tags": []
          },
          "execution_count": 24
        }
      ]
    },
    {
      "cell_type": "markdown",
      "metadata": {
        "id": "OGJsgzssSXl5"
      },
      "source": [
        "# Keras를 활용한 CNN 레이어 종합\r\n",
        "* 합성곱 레이어를 두번 통과\r\n",
        "* 은닉층 1개\r\n",
        "* 츨력층 1개"
      ]
    },
    {
      "cell_type": "code",
      "metadata": {
        "id": "A2NX5U7_Q7fC"
      },
      "source": [
        "# 특성 추출을 위한 레이어 준비 ( Conv2D, Activation, MaxPool2D )\r\n",
        "from tensorflow.keras.layers import Conv2D, Activation, MaxPool2D\r\n",
        "\r\n",
        "# 데이터 입력을 위한 레이어 (Input). 입력층 레이어\r\n",
        "from tensorflow.keras.layers import Input\r\n",
        "\r\n",
        "# Classification을 위한 레이어 ( Fully Connected Layer 재료 - Dense, Dropout, Flatten)\r\n",
        "from tensorflow.keras.layers import Dense, Dropout, Flatten"
      ],
      "execution_count": 25,
      "outputs": []
    },
    {
      "cell_type": "code",
      "metadata": {
        "id": "3_miIQ2GSZW4"
      },
      "source": [
        "# 1. 입력 데이터의 형상 ( 배치 사이즈를 제외한... )\r\n",
        "input_shape = ( 28, 28, 1 )\r\n",
        "\r\n",
        "# 2. 분류할 클래스의 개수\r\n",
        "num_classes = 10"
      ],
      "execution_count": 26,
      "outputs": []
    },
    {
      "cell_type": "code",
      "metadata": {
        "id": "BEHqsf9LSakg"
      },
      "source": [
        "# 원본 데이터를 입력받는 레이어\r\n",
        "inputs = Input(shape = input_shape)\r\n",
        "\r\n",
        "# Feature Extraction(특징 추출) - Convolution 레이어\r\n",
        "net = Conv2D(32, 3, padding='SAME')(inputs)\r\n",
        "net = Activation('relu')(net)\r\n",
        "net = Conv2D(32, 3, padding='SAME')(net)\r\n",
        "net = Activation('relu')(net)\r\n",
        "net = MaxPool2D((2, 2))(net)\r\n",
        "net = Dropout(0.25)(net) # 가중치를 0으로 만들 데이터의 비율 지정 ( 즉 사용하지 않을 데이터의 비율을 지정 ) - 과대적합을 방지\r\n",
        "\r\n",
        "net = Conv2D(64, 3, padding='SAME')(net)\r\n",
        "net = Activation('relu')(net)\r\n",
        "net = Conv2D(64, 3, padding='SAME')(net)\r\n",
        "net = Activation('relu')(net)\r\n",
        "net = MaxPool2D((2, 2))(net)\r\n",
        "net = Dropout(0.25)(net)\r\n",
        "\r\n",
        "# Fully Connected 구성\r\n",
        "net = Flatten()(net)\r\n",
        "net = Dense(512)(net)\r\n",
        "net = Activation('relu')(net)\r\n",
        "net = Dropout(0.25)(net)\r\n",
        "\r\n",
        "# 출력층 구성\r\n",
        "net = Dense(num_classes)(net)\r\n",
        "net = Activation('softmax')(net)"
      ],
      "execution_count": 27,
      "outputs": []
    },
    {
      "cell_type": "markdown",
      "metadata": {
        "id": "xhYyHWZ-Vu80"
      },
      "source": [
        "텐서플로우는 계산그래프를 먼저 그린다. - 모델 생성 단계라고 한다."
      ]
    },
    {
      "cell_type": "code",
      "metadata": {
        "id": "HxipGE0FScaA"
      },
      "source": [
        "# 계산 그래프 그리기\r\n",
        "model = tf.keras.Model(inputs=inputs, outputs=net, name='CNN_ARABOZA')"
      ],
      "execution_count": 28,
      "outputs": []
    },
    {
      "cell_type": "code",
      "metadata": {
        "colab": {
          "base_uri": "https://localhost:8080/"
        },
        "id": "ZwdHWkFhVw6g",
        "outputId": "44b93113-569c-4c7d-c797-6d4010987728"
      },
      "source": [
        "model.summary()"
      ],
      "execution_count": 29,
      "outputs": [
        {
          "output_type": "stream",
          "text": [
            "Model: \"CNN_ARABOZA\"\n",
            "_________________________________________________________________\n",
            "Layer (type)                 Output Shape              Param #   \n",
            "=================================================================\n",
            "input_1 (InputLayer)         [(None, 28, 28, 1)]       0         \n",
            "_________________________________________________________________\n",
            "conv2d_3 (Conv2D)            (None, 28, 28, 32)        320       \n",
            "_________________________________________________________________\n",
            "activation (Activation)      (None, 28, 28, 32)        0         \n",
            "_________________________________________________________________\n",
            "conv2d_4 (Conv2D)            (None, 28, 28, 32)        9248      \n",
            "_________________________________________________________________\n",
            "activation_1 (Activation)    (None, 28, 28, 32)        0         \n",
            "_________________________________________________________________\n",
            "max_pooling2d_1 (MaxPooling2 (None, 14, 14, 32)        0         \n",
            "_________________________________________________________________\n",
            "dropout (Dropout)            (None, 14, 14, 32)        0         \n",
            "_________________________________________________________________\n",
            "conv2d_5 (Conv2D)            (None, 14, 14, 64)        18496     \n",
            "_________________________________________________________________\n",
            "activation_2 (Activation)    (None, 14, 14, 64)        0         \n",
            "_________________________________________________________________\n",
            "conv2d_6 (Conv2D)            (None, 14, 14, 64)        36928     \n",
            "_________________________________________________________________\n",
            "activation_3 (Activation)    (None, 14, 14, 64)        0         \n",
            "_________________________________________________________________\n",
            "max_pooling2d_2 (MaxPooling2 (None, 7, 7, 64)          0         \n",
            "_________________________________________________________________\n",
            "dropout_1 (Dropout)          (None, 7, 7, 64)          0         \n",
            "_________________________________________________________________\n",
            "flatten_1 (Flatten)          (None, 3136)              0         \n",
            "_________________________________________________________________\n",
            "dense_2 (Dense)              (None, 512)               1606144   \n",
            "_________________________________________________________________\n",
            "activation_4 (Activation)    (None, 512)               0         \n",
            "_________________________________________________________________\n",
            "dropout_2 (Dropout)          (None, 512)               0         \n",
            "_________________________________________________________________\n",
            "dense_3 (Dense)              (None, 10)                5130      \n",
            "_________________________________________________________________\n",
            "activation_5 (Activation)    (None, 10)                0         \n",
            "=================================================================\n",
            "Total params: 1,676,266\n",
            "Trainable params: 1,676,266\n",
            "Non-trainable params: 0\n",
            "_________________________________________________________________\n"
          ],
          "name": "stdout"
        }
      ]
    },
    {
      "cell_type": "markdown",
      "metadata": {
        "id": "JTfPf5gUr2I6"
      },
      "source": [
        "# 최적화 선정하기\r\n",
        "* Loss Function( 손실 함수 ) - MSE, CEE 결정을 해주면 된다.\r\n",
        "* Optimization ( 최적화 함수 ) - SGD, ADAM, RMSProps를 쓸지 등등..\r\n",
        "* Metrics ( 테스트 세트, 검증세트에 대한 평가 기준 ) - accuracy를 많이 사용한다.\r\n"
      ]
    },
    {
      "cell_type": "markdown",
      "metadata": {
        "id": "I7bSctVZr1_q"
      },
      "source": [
        "## Loss Function 선정 기준\r\n",
        "* Binary Classification\r\n",
        " * `binary_crossentropy`\r\n",
        " * 보통 출력층의 뉴런 개수가 1개\r\n",
        " * `sigmoid` 함수를 출력층의 활성화 함수로 사용\r\n",
        "\r\n",
        "* Categorical Classification\r\n",
        " * `categorical_crossentropy`\r\n",
        " * 출력의 뉴런 개수가 2개 이상\r\n",
        " * `softmax` 함수를 출력층의 활성화 함수로 사용"
      ]
    },
    {
      "cell_type": "markdown",
      "metadata": {
        "id": "Pnvkyo5_r10d"
      },
      "source": [
        "### Categorical Cross Entropy Error의 종류\r\n",
        "* `label`의 형식이 `0, 1, 2` 같은 형태면\r\n",
        " - `sparse_categorical_cross_entropy`를 사용\r\n",
        "\r\n",
        "* `label`의 형식이 One Hot Encoding이 되어 있으면\r\n",
        " - `categorical_cross_entropy` 를 사용\r\n"
      ]
    },
    {
      "cell_type": "markdown",
      "metadata": {
        "id": "XWMOADmMr1WV"
      },
      "source": [
        ""
      ]
    },
    {
      "cell_type": "code",
      "metadata": {
        "colab": {
          "base_uri": "https://localhost:8080/"
        },
        "id": "6uISZm17Vymg",
        "outputId": "c2eb929c-0941-4ab0-c29f-6491f7d55277"
      },
      "source": [
        "# Loss 함수 선정을 위해 y_train을 확인\r\n",
        "y_train[:3]"
      ],
      "execution_count": 30,
      "outputs": [
        {
          "output_type": "execute_result",
          "data": {
            "text/plain": [
              "array([5, 0, 4], dtype=uint8)"
            ]
          },
          "metadata": {
            "tags": []
          },
          "execution_count": 30
        }
      ]
    },
    {
      "cell_type": "markdown",
      "metadata": {
        "id": "5nt3ICvgsK-c"
      },
      "source": [
        "`y_train`의 원소의 값이 `[5, 0, 4]` 형태이다. \r\n",
        "* `sparse_categorical_cross_entropy`를 쓰자\r\n",
        "* `y_train`을 One Hot Encoding 한 다음 `categorical_cross_entropy`를 쓰자"
      ]
    },
    {
      "cell_type": "code",
      "metadata": {
        "colab": {
          "base_uri": "https://localhost:8080/"
        },
        "id": "iLPZZ91ur9vD",
        "outputId": "75bad936-d160-4990-eb76-970ece35a70c"
      },
      "source": [
        "# 함수 형태\r\n",
        "loss_func = tf.keras.losses.sparse_categorical_crossentropy\r\n",
        "loss_func"
      ],
      "execution_count": 31,
      "outputs": [
        {
          "output_type": "execute_result",
          "data": {
            "text/plain": [
              "<function tensorflow.python.keras.losses.sparse_categorical_crossentropy>"
            ]
          },
          "metadata": {
            "tags": []
          },
          "execution_count": 31
        }
      ]
    },
    {
      "cell_type": "code",
      "metadata": {
        "colab": {
          "base_uri": "https://localhost:8080/"
        },
        "id": "CQtT5CbFsNE2",
        "outputId": "93713437-5661-45e6-b5f6-adc57dfc19be"
      },
      "source": [
        "# 클래스 형태\r\n",
        "tf.keras.losses.SparseCategoricalCrossentropy()"
      ],
      "execution_count": 32,
      "outputs": [
        {
          "output_type": "execute_result",
          "data": {
            "text/plain": [
              "<tensorflow.python.keras.losses.SparseCategoricalCrossentropy at 0x7f629fd0ef98>"
            ]
          },
          "metadata": {
            "tags": []
          },
          "execution_count": 32
        }
      ]
    },
    {
      "cell_type": "code",
      "metadata": {
        "colab": {
          "base_uri": "https://localhost:8080/"
        },
        "id": "oFvhMmrwsOrf",
        "outputId": "05682cac-4303-42d7-9cc8-b3e6c9df1e9e"
      },
      "source": [
        "# 만약에 레이블이 OHE 되어 있으면 쓰자\r\n",
        "tf.keras.losses.categorical_crossentropy"
      ],
      "execution_count": 33,
      "outputs": [
        {
          "output_type": "execute_result",
          "data": {
            "text/plain": [
              "<function tensorflow.python.keras.losses.categorical_crossentropy>"
            ]
          },
          "metadata": {
            "tags": []
          },
          "execution_count": 33
        }
      ]
    },
    {
      "cell_type": "code",
      "metadata": {
        "colab": {
          "base_uri": "https://localhost:8080/"
        },
        "id": "b-piO--ssP4P",
        "outputId": "a9f8445b-e903-4ba6-d9ab-6560c03dd835"
      },
      "source": [
        "# 이진 분류 시에 쓰자\r\n",
        "tf.keras.losses.binary_crossentropy"
      ],
      "execution_count": 34,
      "outputs": [
        {
          "output_type": "execute_result",
          "data": {
            "text/plain": [
              "<function tensorflow.python.keras.losses.binary_crossentropy>"
            ]
          },
          "metadata": {
            "tags": []
          },
          "execution_count": 34
        }
      ]
    },
    {
      "cell_type": "code",
      "metadata": {
        "id": "c7iDFdgesRPA"
      },
      "source": [
        "metrics = ['accuracy'] # acc 또는 tf.keras.metrics.Accuracy() 활용 하면 된다. 대소문자 구분을 하기 때문에 오타 주의"
      ],
      "execution_count": 35,
      "outputs": []
    },
    {
      "cell_type": "code",
      "metadata": {
        "id": "8CdU8jiksS_n"
      },
      "source": [
        "optimizer = tf.keras.optimizers.Adam()"
      ],
      "execution_count": 36,
      "outputs": []
    },
    {
      "cell_type": "code",
      "metadata": {
        "id": "12vvpvKcste4"
      },
      "source": [
        "model.compile(optimizer=optimizer, loss=loss_func, metrics=metrics)"
      ],
      "execution_count": 43,
      "outputs": []
    },
    {
      "cell_type": "code",
      "metadata": {
        "colab": {
          "base_uri": "https://localhost:8080/"
        },
        "id": "prOxqUuHsUP3",
        "outputId": "416c68be-58b5-46eb-b8dd-abbbb916e495"
      },
      "source": [
        "X_train.shape, X_test.shape"
      ],
      "execution_count": 37,
      "outputs": [
        {
          "output_type": "execute_result",
          "data": {
            "text/plain": [
              "((60000, 28, 28), (10000, 28, 28))"
            ]
          },
          "metadata": {
            "tags": []
          },
          "execution_count": 37
        }
      ]
    },
    {
      "cell_type": "code",
      "metadata": {
        "colab": {
          "base_uri": "https://localhost:8080/"
        },
        "id": "Cl-TFSNJsWWf",
        "outputId": "bf4001db-ab1a-41ee-c0b0-7ea9ccca327b"
      },
      "source": [
        "# 채널 차원을 추가\r\n",
        "X_train = X_train[..., tf.newaxis]\r\n",
        "X_test  = X_test[..., tf.newaxis]\r\n",
        "\r\n",
        "X_train.shape, X_test.shape"
      ],
      "execution_count": 38,
      "outputs": [
        {
          "output_type": "execute_result",
          "data": {
            "text/plain": [
              "((60000, 28, 28, 1), (10000, 28, 28, 1))"
            ]
          },
          "metadata": {
            "tags": []
          },
          "execution_count": 38
        }
      ]
    },
    {
      "cell_type": "code",
      "metadata": {
        "colab": {
          "base_uri": "https://localhost:8080/"
        },
        "id": "PekRBcHssXkm",
        "outputId": "f8e168f2-7e2e-41e9-bd9c-aec96bf64da8"
      },
      "source": [
        "# 정규화 작업 (스케일링 처리)\r\n",
        "# 이미지 데이터의 전처리는 255.0으로 나눠주면 된다.\r\n",
        "X_train = X_train / 255.0\r\n",
        "X_test  = X_test / 255.0\r\n",
        "\r\n",
        "np.min(X_train), np.max(X_train)"
      ],
      "execution_count": 39,
      "outputs": [
        {
          "output_type": "execute_result",
          "data": {
            "text/plain": [
              "(0.0, 1.0)"
            ]
          },
          "metadata": {
            "tags": []
          },
          "execution_count": 39
        }
      ]
    },
    {
      "cell_type": "code",
      "metadata": {
        "id": "KwUhMQWNsZHR"
      },
      "source": [
        "num_epochs = 10 # 에폭이 10번\r\n",
        "batch_size = 32"
      ],
      "execution_count": 40,
      "outputs": []
    },
    {
      "cell_type": "code",
      "metadata": {
        "colab": {
          "base_uri": "https://localhost:8080/"
        },
        "id": "5zT1bZ2psaag",
        "outputId": "17f7c04c-c266-47c5-93e6-45f2dc56f910"
      },
      "source": [
        "model.fit( X_train,\r\n",
        "           y_train,\r\n",
        "           batch_size=batch_size,\r\n",
        "           epochs=num_epochs,\r\n",
        "           shuffle=True) # shuffle : 데이터를 섞어가며 훈련하기"
      ],
      "execution_count": 44,
      "outputs": [
        {
          "output_type": "stream",
          "text": [
            "Epoch 1/10\n",
            "1875/1875 [==============================] - 7s 3ms/step - loss: 0.2679 - accuracy: 0.9126\n",
            "Epoch 2/10\n",
            "1875/1875 [==============================] - 6s 3ms/step - loss: 0.0513 - accuracy: 0.9846\n",
            "Epoch 3/10\n",
            "1875/1875 [==============================] - 6s 3ms/step - loss: 0.0393 - accuracy: 0.9875\n",
            "Epoch 4/10\n",
            "1875/1875 [==============================] - 7s 3ms/step - loss: 0.0319 - accuracy: 0.9902\n",
            "Epoch 5/10\n",
            "1875/1875 [==============================] - 7s 3ms/step - loss: 0.0236 - accuracy: 0.9924\n",
            "Epoch 6/10\n",
            "1875/1875 [==============================] - 6s 3ms/step - loss: 0.0231 - accuracy: 0.9919\n",
            "Epoch 7/10\n",
            "1875/1875 [==============================] - 6s 3ms/step - loss: 0.0187 - accuracy: 0.9939\n",
            "Epoch 8/10\n",
            "1875/1875 [==============================] - 7s 3ms/step - loss: 0.0197 - accuracy: 0.9938\n",
            "Epoch 9/10\n",
            "1875/1875 [==============================] - 7s 3ms/step - loss: 0.0144 - accuracy: 0.9953\n",
            "Epoch 10/10\n",
            "1875/1875 [==============================] - 7s 3ms/step - loss: 0.0159 - accuracy: 0.9950\n"
          ],
          "name": "stdout"
        },
        {
          "output_type": "execute_result",
          "data": {
            "text/plain": [
              "<tensorflow.python.keras.callbacks.History at 0x7f629ff64080>"
            ]
          },
          "metadata": {
            "tags": []
          },
          "execution_count": 44
        }
      ]
    },
    {
      "cell_type": "code",
      "metadata": {
        "id": "jpG4D4OTsbg_"
      },
      "source": [
        ""
      ],
      "execution_count": null,
      "outputs": []
    }
  ]
}